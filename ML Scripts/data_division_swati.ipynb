{
  "cells": [
    {
      "cell_type": "code",
      "execution_count": null,
      "metadata": {
        "id": "8TZ-yBb3wmG1"
      },
      "outputs": [],
      "source": [
        "import pandas as pd\n",
        "# Set the display options\n",
        "pd.set_option('display.max_rows', None)  # None means unlimited\n",
        "pd.set_option('display.max_columns', None)  # None means unlimited\n",
        "from sklearn.model_selection import train_test_split\n"
      ]
    },
    {
      "cell_type": "code",
      "execution_count": null,
      "metadata": {
        "id": "atPtWqbrwmG4",
        "outputId": "23d486b1-b2e6-4ccf-f51e-412bea863b28"
      },
      "outputs": [
        {
          "name": "stderr",
          "output_type": "stream",
          "text": [
            "/tmp/ipykernel_2043213/3054053678.py:2: DtypeWarning: Columns (20) have mixed types. Specify dtype option on import or set low_memory=False.\n",
            "  df_clinical_reduced = pd.read_csv('/local/scratch/shared-directories/ssanet/embed-dataset-aws/tables/EMBED_OpenData_clinical_reduced.csv',index_col=0)\n",
            "/tmp/ipykernel_2043213/3054053678.py:4: DtypeWarning: Columns (27,28) have mixed types. Specify dtype option on import or set low_memory=False.\n",
            "  df_opendata_metadata_reduced = pd.read_csv('/local/scratch/shared-directories/ssanet/embed-dataset-aws/tables/EMBED_OpenData_metadata_reduced.csv',index_col=0)\n"
          ]
        }
      ],
      "source": [
        "# df_clinical_full = pd.read_csv('/local/scratch/shared-directories/ssanet/Dataset_EMBED/tables/EMBED_OpenData_clinical.csv',index_col=0)\n",
        "df_clinical_reduced = pd.read_csv('/local/scratch/shared-directories/ssanet/embed-dataset-aws/tables/EMBED_OpenData_clinical_reduced.csv',index_col=0)\n",
        "# df_opendata_metadata = pd.read_csv('/local/scratch/shared-directories/ssanet/Dataset_EMBED/tables/EMBED_OpenData_metadata.csv',index_col=0)\n",
        "df_opendata_metadata_reduced = pd.read_csv('/local/scratch/shared-directories/ssanet/embed-dataset-aws/tables/EMBED_OpenData_metadata_reduced.csv',index_col=0)"
      ]
    },
    {
      "cell_type": "code",
      "execution_count": null,
      "metadata": {
        "id": "fJUwZV0pwmG8",
        "outputId": "3ece71a7-d71a-4996-8b6c-72f34277a53b"
      },
      "outputs": [
        {
          "data": {
            "text/plain": [
              "asses\n",
              "N    45972\n",
              "B    15018\n",
              "A    11425\n",
              "P     5570\n",
              "S     3085\n",
              "K      395\n",
              "M      285\n",
              "X       26\n",
              "Name: count, dtype: int64"
            ]
          },
          "execution_count": 4,
          "metadata": {},
          "output_type": "execute_result"
        }
      ],
      "source": [
        "df_clinical_reduced['asses'].value_counts()"
      ]
    },
    {
      "cell_type": "code",
      "execution_count": null,
      "metadata": {
        "id": "qeGxnpjgwmG9",
        "outputId": "17a35b6a-f56d-4e0f-d133-09d23272817a"
      },
      "outputs": [
        {
          "name": "stdout",
          "output_type": "stream",
          "text": [
            "(81776, 20)\n",
            "(480323, 28)\n"
          ]
        }
      ],
      "source": [
        "# print(df_clinical_full.shape)\n",
        "# print(df_opendata_metadata.shape)\n",
        "\n",
        "print(df_clinical_reduced.shape)\n",
        "print(df_opendata_metadata_reduced.shape)"
      ]
    },
    {
      "cell_type": "code",
      "execution_count": null,
      "metadata": {
        "id": "u1VXEuoBwmG9",
        "outputId": "dfd22a99-1be5-4e17-bbf0-801161d732e8"
      },
      "outputs": [
        {
          "name": "stdout",
          "output_type": "stream",
          "text": [
            "23253\n"
          ]
        }
      ],
      "source": [
        "print(len(df_clinical_reduced['empi_anon'].unique()))"
      ]
    },
    {
      "cell_type": "code",
      "execution_count": null,
      "metadata": {
        "id": "Zl453lPKwmG-",
        "outputId": "228df1d3-2c65-4933-c2f5-c9148ce57b60"
      },
      "outputs": [
        {
          "data": {
            "text/plain": [
              "numfind\n",
              "1    73357\n",
              "2     6697\n",
              "3     1307\n",
              "4      300\n",
              "5       76\n",
              "6       24\n",
              "7        9\n",
              "8        4\n",
              "0        1\n",
              "9        1\n",
              "Name: count, dtype: int64"
            ]
          },
          "execution_count": 5,
          "metadata": {},
          "output_type": "execute_result"
        }
      ],
      "source": [
        "df_clinical_reduced['numfind'].value_counts()"
      ]
    },
    {
      "cell_type": "code",
      "execution_count": null,
      "metadata": {
        "id": "omdgrPR-wmG_",
        "outputId": "597386d0-b6a5-4495-fcc5-0e50f74132a4"
      },
      "outputs": [
        {
          "data": {
            "text/plain": [
              "(73357, 20)"
            ]
          },
          "execution_count": 5,
          "metadata": {},
          "output_type": "execute_result"
        }
      ],
      "source": [
        "df_clinical_reduced = df_clinical_reduced[df_clinical_reduced['numfind']==1]\n",
        "df_clinical_reduced.shape"
      ]
    },
    {
      "cell_type": "code",
      "execution_count": null,
      "metadata": {
        "id": "u5BQqMxPwmHA",
        "outputId": "5c854528-7edb-4cf1-eb68-08048312e7c0"
      },
      "outputs": [
        {
          "name": "stdout",
          "output_type": "stream",
          "text": [
            "(Just to verify) Combined length of divided Metadata:  480323\n",
            "(Just to verify) Combined length of divided ClinicalData:  73357\n"
          ]
        }
      ],
      "source": [
        "df_clinical_reduced_side_L = df_clinical_reduced[df_clinical_reduced['side']=='L']\n",
        "df_clinical_reduced_side_R = df_clinical_reduced[df_clinical_reduced['side']=='R']\n",
        "df_clinical_reduced_side_B = df_clinical_reduced[df_clinical_reduced['side']=='B']\n",
        "df_clinical_reduced_side_nan = df_clinical_reduced[df_clinical_reduced['side'].isna()]\n",
        "\n",
        "\n",
        "df_opendata_metadata_reduced_L = df_opendata_metadata_reduced[df_opendata_metadata_reduced['ImageLateralityFinal']=='L']\n",
        "df_opendata_metadata_reduced_R = df_opendata_metadata_reduced[df_opendata_metadata_reduced['ImageLateralityFinal']=='R']\n",
        "\n",
        "print(\"(Just to verify) Combined length of divided Metadata: \", len(df_opendata_metadata_reduced_L)+len(df_opendata_metadata_reduced_R))\n",
        "print(\"(Just to verify) Combined length of divided ClinicalData: \", (len(df_clinical_reduced_side_L)+len(df_clinical_reduced_side_R)+len(df_clinical_reduced_side_B)+len(df_clinical_reduced_side_nan)))"
      ]
    },
    {
      "cell_type": "code",
      "execution_count": null,
      "metadata": {
        "id": "ybM1b-A3wmHB"
      },
      "outputs": [],
      "source": [
        "df_opendata_metadata_reduced_L = df_opendata_metadata_reduced_L.groupby(['empi_anon', 'acc_anon']).agg(lambda x: list(x)).reset_index()\n",
        "agg_dict = {col: lambda x: list(x) for col in df_opendata_metadata_reduced_L.columns if col not in ['empi_anon', 'acc_anon']}\n",
        "df_opendata_metadata_reduced_L = df_opendata_metadata_reduced_L.groupby(['empi_anon', 'acc_anon']).agg(agg_dict).reset_index()\n",
        "\n",
        "df_opendata_metadata_reduced_R = df_opendata_metadata_reduced_R.groupby(['empi_anon', 'acc_anon']).agg(lambda x: list(x)).reset_index()\n",
        "agg_dict = {col: lambda x: list(x) for col in df_opendata_metadata_reduced_R.columns if col not in ['empi_anon', 'acc_anon']}\n",
        "df_opendata_metadata_reduced_R = df_opendata_metadata_reduced_R.groupby(['empi_anon', 'acc_anon']).agg(agg_dict).reset_index()\n",
        "\n",
        "df_opendata_metadata_reduced_LR = df_opendata_metadata_reduced.groupby(['empi_anon', 'acc_anon']).agg(lambda x: list(x)).reset_index()\n",
        "agg_dict = {col: lambda x: list(x) for col in df_opendata_metadata_reduced_LR.columns if col not in ['empi_anon', 'acc_anon']}\n",
        "df_opendata_metadata_reduced_LR = df_opendata_metadata_reduced_LR.groupby(['empi_anon', 'acc_anon']).agg(agg_dict).reset_index()\n"
      ]
    },
    {
      "cell_type": "code",
      "execution_count": null,
      "metadata": {
        "id": "hpC27QFlwmHB"
      },
      "outputs": [],
      "source": [
        "final_side_L_with_image = pd.merge(df_clinical_reduced_side_L, df_opendata_metadata_reduced_L, on=['empi_anon', 'acc_anon'], how='inner')\n",
        "final_side_R_with_image = pd.merge(df_clinical_reduced_side_R, df_opendata_metadata_reduced_R, on=['empi_anon', 'acc_anon'], how='inner')\n",
        "final_side_B_with_image = pd.merge(df_clinical_reduced_side_B, df_opendata_metadata_reduced_LR, on=['empi_anon', 'acc_anon'], how='inner')\n",
        "final_side_nan_with_image = pd.merge(df_clinical_reduced_side_nan, df_opendata_metadata_reduced_LR, on=['empi_anon', 'acc_anon'], how='inner')"
      ]
    },
    {
      "cell_type": "code",
      "execution_count": null,
      "metadata": {
        "id": "82MHum4PwmHC"
      },
      "outputs": [],
      "source": [
        "final_dataset_with_images = pd.concat([final_side_R_with_image, final_side_L_with_image, final_side_B_with_image, final_side_nan_with_image], axis=0).reset_index(drop=True)"
      ]
    },
    {
      "cell_type": "code",
      "execution_count": null,
      "metadata": {
        "id": "2IzZFB9EwmHC",
        "outputId": "aaeeea62-a46b-4c62-90db-b932c9ef5cd3"
      },
      "outputs": [
        {
          "data": {
            "text/plain": [
              "asses\n",
              "N    45276\n",
              "B    11968\n",
              "A     9167\n",
              "M     6898\n",
              "Name: count, dtype: int64"
            ]
          },
          "execution_count": 10,
          "metadata": {},
          "output_type": "execute_result"
        }
      ],
      "source": [
        "final_dataset_with_images = final_dataset_with_images[final_dataset_with_images['asses']!='X'].reset_index(drop=True)\n",
        "final_dataset_with_images['asses'].replace({'P':'M','S':'M','K':'M'},inplace=True)\n",
        "final_dataset_with_images['asses'].value_counts()"
      ]
    },
    {
      "cell_type": "code",
      "execution_count": null,
      "metadata": {
        "id": "xUVb_SeLwmHD",
        "outputId": "dc30c940-7711-4931-dcdb-2c87e30e69d5"
      },
      "outputs": [
        {
          "name": "stdout",
          "output_type": "stream",
          "text": [
            "train set size: (52782, 46)\n",
            "Validation set size: (13196, 46)\n",
            "test set size: (7331, 46)\n"
          ]
        }
      ],
      "source": [
        "test_size = 0.10  # 10% for the test set\n",
        "validation_size = 0.20  # 20% of the remaining data for the validation set\n",
        "train_df, test_df = train_test_split(final_dataset_with_images, test_size=test_size, stratify=final_dataset_with_images['asses'], random_state=42)\n",
        "train_df, val_df = train_test_split(train_df, test_size=validation_size, stratify=train_df['asses'], random_state=42)\n",
        "print(\"train set size:\", train_df.shape)\n",
        "print(\"Validation set size:\", val_df.shape)\n",
        "print(\"test set size:\", test_df.shape)"
      ]
    },
    {
      "cell_type": "code",
      "execution_count": null,
      "metadata": {
        "id": "HjLWFifHwmHE"
      },
      "outputs": [],
      "source": [
        "train_df.to_csv('train.csv',index=False)\n",
        "test_df.to_csv('test.csv',index=False)\n",
        "val_df.to_csv('val.csv',index=False)"
      ]
    },
    {
      "cell_type": "code",
      "execution_count": null,
      "metadata": {
        "id": "9rHKpU0PwmHE",
        "outputId": "74749052-f84e-4672-996e-adc7e6784ffe"
      },
      "outputs": [
        {
          "data": {
            "text/plain": [
              "asses\n",
              "N    32599\n",
              "B     8617\n",
              "A     6600\n",
              "M     4966\n",
              "Name: count, dtype: int64"
            ]
          },
          "execution_count": 14,
          "metadata": {},
          "output_type": "execute_result"
        }
      ],
      "source": [
        "train_df['asses'].value_counts()"
      ]
    },
    {
      "cell_type": "code",
      "execution_count": null,
      "metadata": {
        "id": "Jz7zEcOvwmHE",
        "outputId": "45a28b42-c6a1-4cf7-a5ab-2cdf8e83b700"
      },
      "outputs": [
        {
          "data": {
            "text/plain": [
              "asses\n",
              "N    8150\n",
              "B    2154\n",
              "A    1650\n",
              "M    1242\n",
              "Name: count, dtype: int64"
            ]
          },
          "execution_count": 16,
          "metadata": {},
          "output_type": "execute_result"
        }
      ],
      "source": [
        "val_df['asses'].value_counts()"
      ]
    },
    {
      "cell_type": "code",
      "execution_count": null,
      "metadata": {
        "id": "ibjV_iu7wmHF",
        "outputId": "6836946e-4183-4bc2-c6b7-5f6642e73bfe"
      },
      "outputs": [
        {
          "ename": "NameError",
          "evalue": "name 'train_df' is not defined",
          "output_type": "error",
          "traceback": [
            "\u001b[0;31m---------------------------------------------------------------------------\u001b[0m",
            "\u001b[0;31mNameError\u001b[0m                                 Traceback (most recent call last)",
            "Cell \u001b[0;32mIn[1], line 1\u001b[0m\n\u001b[0;32m----> 1\u001b[0m \u001b[43mtrain_df\u001b[49m\u001b[38;5;241m.\u001b[39msample(\u001b[38;5;241m4\u001b[39m)\n",
            "\u001b[0;31mNameError\u001b[0m: name 'train_df' is not defined"
          ]
        }
      ],
      "source": [
        "train_df.sample(4)"
      ]
    },
    {
      "cell_type": "code",
      "execution_count": null,
      "metadata": {
        "id": "so5gjY1wwmHF"
      },
      "outputs": [],
      "source": [
        "import pandas as pd\n",
        "df = pd.read_csv('train.csv')"
      ]
    },
    {
      "cell_type": "code",
      "execution_count": null,
      "metadata": {
        "id": "Wa0bSVBswmHF",
        "outputId": "f0f3754d-2e8c-493a-c98d-a6a486f1e6f3"
      },
      "outputs": [
        {
          "data": {
            "text/plain": [
              "asses\n",
              "N    32599\n",
              "B     8617\n",
              "A     6600\n",
              "M     4966\n",
              "Name: count, dtype: int64"
            ]
          },
          "execution_count": 3,
          "metadata": {},
          "output_type": "execute_result"
        }
      ],
      "source": [
        "df['asses'].value_counts()"
      ]
    },
    {
      "cell_type": "code",
      "execution_count": null,
      "metadata": {
        "id": "jnIOF6h3wmHF",
        "outputId": "38e42962-f1be-4e2c-8edf-8c1ca24dd05f"
      },
      "outputs": [
        {
          "data": {
            "text/html": [
              "<div>\n",
              "<style scoped>\n",
              "    .dataframe tbody tr th:only-of-type {\n",
              "        vertical-align: middle;\n",
              "    }\n",
              "\n",
              "    .dataframe tbody tr th {\n",
              "        vertical-align: top;\n",
              "    }\n",
              "\n",
              "    .dataframe thead th {\n",
              "        text-align: right;\n",
              "    }\n",
              "</style>\n",
              "<table border=\"1\" class=\"dataframe\">\n",
              "  <thead>\n",
              "    <tr style=\"text-align: right;\">\n",
              "      <th></th>\n",
              "      <th>empi_anon</th>\n",
              "      <th>acc_anon</th>\n",
              "      <th>desc</th>\n",
              "      <th>numfind</th>\n",
              "      <th>side</th>\n",
              "      <th>asses</th>\n",
              "      <th>tissueden</th>\n",
              "      <th>bside</th>\n",
              "      <th>GENDER_DESC</th>\n",
              "      <th>RACE_DESC</th>\n",
              "      <th>ETHNIC_GROUP_DESC</th>\n",
              "      <th>MARITAL_STATUS_DESC</th>\n",
              "      <th>age_at_study</th>\n",
              "      <th>study_date_anon_x</th>\n",
              "      <th>procdate_anon</th>\n",
              "      <th>cohort_num_x</th>\n",
              "      <th>path_severity</th>\n",
              "      <th>total_L_find</th>\n",
              "      <th>total_R_find</th>\n",
              "      <th>first_3_zip</th>\n",
              "      <th>cohort_num_y</th>\n",
              "      <th>study_date_anon_y</th>\n",
              "      <th>StudyDescription</th>\n",
              "      <th>SeriesDescription</th>\n",
              "      <th>FinalImageType</th>\n",
              "      <th>ImageLateralityFinal</th>\n",
              "      <th>ViewPosition</th>\n",
              "      <th>spot_mag</th>\n",
              "      <th>anon_dicom_path</th>\n",
              "      <th>num_roi</th>\n",
              "      <th>ROI_coords</th>\n",
              "      <th>SRC_DST</th>\n",
              "      <th>match_level</th>\n",
              "      <th>Manufacturer</th>\n",
              "      <th>ManufacturerModelName</th>\n",
              "      <th>PatientSex</th>\n",
              "      <th>ProtocolName</th>\n",
              "      <th>SeriesNumber</th>\n",
              "      <th>SeriesTime</th>\n",
              "      <th>StudyID</th>\n",
              "      <th>WindowCenter</th>\n",
              "      <th>WindowWidth</th>\n",
              "      <th>has_pix_array</th>\n",
              "      <th>category</th>\n",
              "      <th>VOILUTFunction</th>\n",
              "      <th>WindowCenterWidthExplanation</th>\n",
              "    </tr>\n",
              "  </thead>\n",
              "  <tbody>\n",
              "    <tr>\n",
              "      <th>12464</th>\n",
              "      <td>94523498</td>\n",
              "      <td>9222653435392327</td>\n",
              "      <td>MG Screen Bilat w/Tomo/CAD Stnd Protocol</td>\n",
              "      <td>1</td>\n",
              "      <td>NaN</td>\n",
              "      <td>N</td>\n",
              "      <td>2.0</td>\n",
              "      <td>NaN</td>\n",
              "      <td>Female</td>\n",
              "      <td>Asian</td>\n",
              "      <td>Non-Hispanic or Latino</td>\n",
              "      <td>Not Recorded</td>\n",
              "      <td>64.255940</td>\n",
              "      <td>2018-06-25</td>\n",
              "      <td>NaN</td>\n",
              "      <td>1</td>\n",
              "      <td>NaN</td>\n",
              "      <td>0.0</td>\n",
              "      <td>0.0</td>\n",
              "      <td>305.0</td>\n",
              "      <td>[[1, 1, 1, 1, 1, 1, 1, 1]]</td>\n",
              "      <td>[['2018-06-25 00:00:00', '2018-06-25 00:00:00'...</td>\n",
              "      <td>[['MG Screen Bilat w/Tomo/CAD Stnd Protocol', ...</td>\n",
              "      <td>[['R CC C-View', 'R CC', 'L CC C-View', 'L CC'...</td>\n",
              "      <td>[['cview', '2D', 'cview', '2D', '2D', 'cview',...</td>\n",
              "      <td>[['R', 'R', 'L', 'L', 'L', 'R', 'R', 'L']]</td>\n",
              "      <td>[['CC', 'CC', 'CC', 'CC', 'MLO', 'MLO', 'MLO',...</td>\n",
              "      <td>[[nan, nan, nan, nan, nan, nan, nan, nan]]</td>\n",
              "      <td>[['/mnt/NAS2/mammo/anon_dicom/cohort_1/9452349...</td>\n",
              "      <td>[[0, 0, 0, 0, 0, 0, 0, 0]]</td>\n",
              "      <td>[['()', '()', '()', '()', '()', '()', '()', '(...</td>\n",
              "      <td>[['[]', '[]', '[]', '[]', '[]', '[]', '[]', '[...</td>\n",
              "      <td>[['[]', '[]', '[]', '[]', '[]', '[]', '[]', '[...</td>\n",
              "      <td>[['HOLOGIC, Inc.', 'HOLOGIC, Inc.', 'HOLOGIC, ...</td>\n",
              "      <td>[['Selenia Dimensions', 'Selenia Dimensions', ...</td>\n",
              "      <td>[['F', 'F', 'F', 'F', 'F', 'F', 'F', 'F']]</td>\n",
              "      <td>[['R CC ComboHD', 'R CC ComboHD', 'L CC ComboH...</td>\n",
              "      <td>[[71300000, 71300000, 71300000, 71300000, 7130...</td>\n",
              "      <td>[[161140.0, 161140.0, 161243.0, 161243.0, 1615...</td>\n",
              "      <td>[['MG Screen Bilat', 'MG Screen Bilat', 'MG Sc...</td>\n",
              "      <td>[['540.0', '2047.0', '540.0', '2047.0', '2047....</td>\n",
              "      <td>[['580.0', '4096.0', '580.0', '4096.0', '4096....</td>\n",
              "      <td>[[False, False, False, False, False, False, Fa...</td>\n",
              "      <td>[['no image', 'no image', 'no image', 'no imag...</td>\n",
              "      <td>[[nan, nan, nan, nan, nan, nan, nan, nan]]</td>\n",
              "      <td>[[nan, nan, nan, nan, nan, nan, nan, nan]]</td>\n",
              "    </tr>\n",
              "    <tr>\n",
              "      <th>43145</th>\n",
              "      <td>96915713</td>\n",
              "      <td>1035206825807615</td>\n",
              "      <td>MG Screen Bilat w/Tomo/CAD Stnd Protocol</td>\n",
              "      <td>1</td>\n",
              "      <td>NaN</td>\n",
              "      <td>N</td>\n",
              "      <td>3.0</td>\n",
              "      <td>NaN</td>\n",
              "      <td>Female</td>\n",
              "      <td>Caucasian or White</td>\n",
              "      <td>Non-Hispanic or Latino</td>\n",
              "      <td>Married</td>\n",
              "      <td>58.314681</td>\n",
              "      <td>2019-11-06</td>\n",
              "      <td>NaN</td>\n",
              "      <td>1</td>\n",
              "      <td>NaN</td>\n",
              "      <td>0.0</td>\n",
              "      <td>0.0</td>\n",
              "      <td>303.0</td>\n",
              "      <td>[[1, 1, 1, 1, 1, 1, 1, 1]]</td>\n",
              "      <td>[['2019-11-06 00:00:00', '2019-11-06 00:00:00'...</td>\n",
              "      <td>[['MG Screen Bilat w/Tomo/CAD Stnd Protocol', ...</td>\n",
              "      <td>[['L MLO', 'L CC', 'L CC C-View', 'L MLO C-Vie...</td>\n",
              "      <td>[['2D', '2D', 'cview', 'cview', '2D', 'cview',...</td>\n",
              "      <td>[['L', 'L', 'L', 'L', 'R', 'R', 'R', 'R']]</td>\n",
              "      <td>[['MLO', 'CC', 'CC', 'MLO', 'CC', 'MLO', 'CC',...</td>\n",
              "      <td>[[nan, nan, nan, nan, nan, nan, nan, nan]]</td>\n",
              "      <td>[['/mnt/NAS2/mammo/anon_dicom/cohort_1/9691571...</td>\n",
              "      <td>[[0, 0, 0, 0, 0, 0, 0, 0]]</td>\n",
              "      <td>[['()', '()', '()', '()', '()', '()', '()', '(...</td>\n",
              "      <td>[['[]', '[]', '[]', '[]', '[]', '[]', '[]', '[...</td>\n",
              "      <td>[['[]', '[]', '[]', '[]', '[]', '[]', '[]', '[...</td>\n",
              "      <td>[['HOLOGIC, Inc.', 'HOLOGIC, Inc.', 'HOLOGIC, ...</td>\n",
              "      <td>[['Selenia Dimensions', 'Selenia Dimensions', ...</td>\n",
              "      <td>[['F', 'F', 'F', 'F', 'F', 'F', 'F', 'F']]</td>\n",
              "      <td>[['L MLO ComboHD', 'L CC ComboHD', 'L CC Combo...</td>\n",
              "      <td>[[71300000, 71300000, 71300000, 71300000, 7130...</td>\n",
              "      <td>[[135020.0, 134501.0, 134501.0, 135020.0, 1346...</td>\n",
              "      <td>[['MG Screen Bilat', 'MG Screen Bilat', 'MG Sc...</td>\n",
              "      <td>[['2047.0', '2047.0', '540.0', '540.0', '2047....</td>\n",
              "      <td>[['4096.0', '4096.0', '580.0', '580.0', '4096....</td>\n",
              "      <td>[[False, False, False, False, False, False, Fa...</td>\n",
              "      <td>[['no image', 'no image', 'no image', 'no imag...</td>\n",
              "      <td>[[nan, nan, nan, nan, nan, nan, nan, nan]]</td>\n",
              "      <td>[[nan, nan, nan, nan, nan, nan, nan, nan]]</td>\n",
              "    </tr>\n",
              "    <tr>\n",
              "      <th>36960</th>\n",
              "      <td>44786342</td>\n",
              "      <td>5358334024912056</td>\n",
              "      <td>MG Screening Bilateral</td>\n",
              "      <td>1</td>\n",
              "      <td>NaN</td>\n",
              "      <td>N</td>\n",
              "      <td>2.0</td>\n",
              "      <td>NaN</td>\n",
              "      <td>Female</td>\n",
              "      <td>Asian</td>\n",
              "      <td>Non-Hispanic or Latino</td>\n",
              "      <td>Married</td>\n",
              "      <td>67.284065</td>\n",
              "      <td>2013-05-02</td>\n",
              "      <td>NaN</td>\n",
              "      <td>2</td>\n",
              "      <td>NaN</td>\n",
              "      <td>0.0</td>\n",
              "      <td>0.0</td>\n",
              "      <td>300.0</td>\n",
              "      <td>[[2, 2, 2, 2]]</td>\n",
              "      <td>[['2013-05-02 00:00:00', '2013-05-02 00:00:00'...</td>\n",
              "      <td>[['MG Screening Bilateral', 'MG Screening Bila...</td>\n",
              "      <td>[['MG Screening Digital Bilateral', 'MG Screen...</td>\n",
              "      <td>[['2D', '2D', '2D', '2D']]</td>\n",
              "      <td>[['L', 'R', 'L', 'R']]</td>\n",
              "      <td>[['CC', 'MLO', 'MLO', 'CC']]</td>\n",
              "      <td>[[nan, nan, nan, nan]]</td>\n",
              "      <td>[['/mnt/NAS2/mammo/anon_dicom/cohort_2/4478634...</td>\n",
              "      <td>[[0, 0, 0, 0]]</td>\n",
              "      <td>[['()', '()', '()', '()']]</td>\n",
              "      <td>[['[]', '[]', '[]', '[]']]</td>\n",
              "      <td>[['[]', '[]', '[]', '[]']]</td>\n",
              "      <td>[['GE MEDICAL SYSTEMS', 'GE MEDICAL SYSTEMS', ...</td>\n",
              "      <td>[['Senograph 2000D ADS_17.4.5', 'Senograph 200...</td>\n",
              "      <td>[['F', 'F', 'F', 'F']]</td>\n",
              "      <td>[[nan, nan, nan, nan]]</td>\n",
              "      <td>[[47999, 47999, 47999, 47999]]</td>\n",
              "      <td>[[110819.0, 110819.0, 110819.0, 110819.0]]</td>\n",
              "      <td>[['MG Screening Dig', 'MG Screening Dig', 'MG ...</td>\n",
              "      <td>[['(\"2490.0\", \"2544.0\", \"2394.0\")', '(\"2418.0\"...</td>\n",
              "      <td>[['(\"900.0\", \"750.0\", \"1050.0\")', '(\"900.0\", \"...</td>\n",
              "      <td>[[False, False, False, False]]</td>\n",
              "      <td>[['no image', 'no image', 'no image', 'no imag...</td>\n",
              "      <td>[[nan, nan, nan, nan]]</td>\n",
              "      <td>[[nan, nan, nan, nan]]</td>\n",
              "    </tr>\n",
              "  </tbody>\n",
              "</table>\n",
              "</div>"
            ],
            "text/plain": [
              "       empi_anon          acc_anon                                      desc  \\\n",
              "12464   94523498  9222653435392327  MG Screen Bilat w/Tomo/CAD Stnd Protocol   \n",
              "43145   96915713  1035206825807615  MG Screen Bilat w/Tomo/CAD Stnd Protocol   \n",
              "36960   44786342  5358334024912056                    MG Screening Bilateral   \n",
              "\n",
              "       numfind side asses  tissueden bside GENDER_DESC           RACE_DESC  \\\n",
              "12464        1  NaN     N        2.0   NaN      Female               Asian   \n",
              "43145        1  NaN     N        3.0   NaN      Female  Caucasian or White   \n",
              "36960        1  NaN     N        2.0   NaN      Female               Asian   \n",
              "\n",
              "            ETHNIC_GROUP_DESC MARITAL_STATUS_DESC  age_at_study  \\\n",
              "12464  Non-Hispanic or Latino        Not Recorded     64.255940   \n",
              "43145  Non-Hispanic or Latino             Married     58.314681   \n",
              "36960  Non-Hispanic or Latino             Married     67.284065   \n",
              "\n",
              "      study_date_anon_x procdate_anon  cohort_num_x  path_severity  \\\n",
              "12464        2018-06-25           NaN             1            NaN   \n",
              "43145        2019-11-06           NaN             1            NaN   \n",
              "36960        2013-05-02           NaN             2            NaN   \n",
              "\n",
              "       total_L_find  total_R_find  first_3_zip                cohort_num_y  \\\n",
              "12464           0.0           0.0        305.0  [[1, 1, 1, 1, 1, 1, 1, 1]]   \n",
              "43145           0.0           0.0        303.0  [[1, 1, 1, 1, 1, 1, 1, 1]]   \n",
              "36960           0.0           0.0        300.0              [[2, 2, 2, 2]]   \n",
              "\n",
              "                                       study_date_anon_y  \\\n",
              "12464  [['2018-06-25 00:00:00', '2018-06-25 00:00:00'...   \n",
              "43145  [['2019-11-06 00:00:00', '2019-11-06 00:00:00'...   \n",
              "36960  [['2013-05-02 00:00:00', '2013-05-02 00:00:00'...   \n",
              "\n",
              "                                        StudyDescription  \\\n",
              "12464  [['MG Screen Bilat w/Tomo/CAD Stnd Protocol', ...   \n",
              "43145  [['MG Screen Bilat w/Tomo/CAD Stnd Protocol', ...   \n",
              "36960  [['MG Screening Bilateral', 'MG Screening Bila...   \n",
              "\n",
              "                                       SeriesDescription  \\\n",
              "12464  [['R CC C-View', 'R CC', 'L CC C-View', 'L CC'...   \n",
              "43145  [['L MLO', 'L CC', 'L CC C-View', 'L MLO C-Vie...   \n",
              "36960  [['MG Screening Digital Bilateral', 'MG Screen...   \n",
              "\n",
              "                                          FinalImageType  \\\n",
              "12464  [['cview', '2D', 'cview', '2D', '2D', 'cview',...   \n",
              "43145  [['2D', '2D', 'cview', 'cview', '2D', 'cview',...   \n",
              "36960                         [['2D', '2D', '2D', '2D']]   \n",
              "\n",
              "                             ImageLateralityFinal  \\\n",
              "12464  [['R', 'R', 'L', 'L', 'L', 'R', 'R', 'L']]   \n",
              "43145  [['L', 'L', 'L', 'L', 'R', 'R', 'R', 'R']]   \n",
              "36960                      [['L', 'R', 'L', 'R']]   \n",
              "\n",
              "                                            ViewPosition  \\\n",
              "12464  [['CC', 'CC', 'CC', 'CC', 'MLO', 'MLO', 'MLO',...   \n",
              "43145  [['MLO', 'CC', 'CC', 'MLO', 'CC', 'MLO', 'CC',...   \n",
              "36960                       [['CC', 'MLO', 'MLO', 'CC']]   \n",
              "\n",
              "                                         spot_mag  \\\n",
              "12464  [[nan, nan, nan, nan, nan, nan, nan, nan]]   \n",
              "43145  [[nan, nan, nan, nan, nan, nan, nan, nan]]   \n",
              "36960                      [[nan, nan, nan, nan]]   \n",
              "\n",
              "                                         anon_dicom_path  \\\n",
              "12464  [['/mnt/NAS2/mammo/anon_dicom/cohort_1/9452349...   \n",
              "43145  [['/mnt/NAS2/mammo/anon_dicom/cohort_1/9691571...   \n",
              "36960  [['/mnt/NAS2/mammo/anon_dicom/cohort_2/4478634...   \n",
              "\n",
              "                          num_roi  \\\n",
              "12464  [[0, 0, 0, 0, 0, 0, 0, 0]]   \n",
              "43145  [[0, 0, 0, 0, 0, 0, 0, 0]]   \n",
              "36960              [[0, 0, 0, 0]]   \n",
              "\n",
              "                                              ROI_coords  \\\n",
              "12464  [['()', '()', '()', '()', '()', '()', '()', '(...   \n",
              "43145  [['()', '()', '()', '()', '()', '()', '()', '(...   \n",
              "36960                         [['()', '()', '()', '()']]   \n",
              "\n",
              "                                                 SRC_DST  \\\n",
              "12464  [['[]', '[]', '[]', '[]', '[]', '[]', '[]', '[...   \n",
              "43145  [['[]', '[]', '[]', '[]', '[]', '[]', '[]', '[...   \n",
              "36960                         [['[]', '[]', '[]', '[]']]   \n",
              "\n",
              "                                             match_level  \\\n",
              "12464  [['[]', '[]', '[]', '[]', '[]', '[]', '[]', '[...   \n",
              "43145  [['[]', '[]', '[]', '[]', '[]', '[]', '[]', '[...   \n",
              "36960                         [['[]', '[]', '[]', '[]']]   \n",
              "\n",
              "                                            Manufacturer  \\\n",
              "12464  [['HOLOGIC, Inc.', 'HOLOGIC, Inc.', 'HOLOGIC, ...   \n",
              "43145  [['HOLOGIC, Inc.', 'HOLOGIC, Inc.', 'HOLOGIC, ...   \n",
              "36960  [['GE MEDICAL SYSTEMS', 'GE MEDICAL SYSTEMS', ...   \n",
              "\n",
              "                                   ManufacturerModelName  \\\n",
              "12464  [['Selenia Dimensions', 'Selenia Dimensions', ...   \n",
              "43145  [['Selenia Dimensions', 'Selenia Dimensions', ...   \n",
              "36960  [['Senograph 2000D ADS_17.4.5', 'Senograph 200...   \n",
              "\n",
              "                                       PatientSex  \\\n",
              "12464  [['F', 'F', 'F', 'F', 'F', 'F', 'F', 'F']]   \n",
              "43145  [['F', 'F', 'F', 'F', 'F', 'F', 'F', 'F']]   \n",
              "36960                      [['F', 'F', 'F', 'F']]   \n",
              "\n",
              "                                            ProtocolName  \\\n",
              "12464  [['R CC ComboHD', 'R CC ComboHD', 'L CC ComboH...   \n",
              "43145  [['L MLO ComboHD', 'L CC ComboHD', 'L CC Combo...   \n",
              "36960                             [[nan, nan, nan, nan]]   \n",
              "\n",
              "                                            SeriesNumber  \\\n",
              "12464  [[71300000, 71300000, 71300000, 71300000, 7130...   \n",
              "43145  [[71300000, 71300000, 71300000, 71300000, 7130...   \n",
              "36960                     [[47999, 47999, 47999, 47999]]   \n",
              "\n",
              "                                              SeriesTime  \\\n",
              "12464  [[161140.0, 161140.0, 161243.0, 161243.0, 1615...   \n",
              "43145  [[135020.0, 134501.0, 134501.0, 135020.0, 1346...   \n",
              "36960         [[110819.0, 110819.0, 110819.0, 110819.0]]   \n",
              "\n",
              "                                                 StudyID  \\\n",
              "12464  [['MG Screen Bilat', 'MG Screen Bilat', 'MG Sc...   \n",
              "43145  [['MG Screen Bilat', 'MG Screen Bilat', 'MG Sc...   \n",
              "36960  [['MG Screening Dig', 'MG Screening Dig', 'MG ...   \n",
              "\n",
              "                                            WindowCenter  \\\n",
              "12464  [['540.0', '2047.0', '540.0', '2047.0', '2047....   \n",
              "43145  [['2047.0', '2047.0', '540.0', '540.0', '2047....   \n",
              "36960  [['(\"2490.0\", \"2544.0\", \"2394.0\")', '(\"2418.0\"...   \n",
              "\n",
              "                                             WindowWidth  \\\n",
              "12464  [['580.0', '4096.0', '580.0', '4096.0', '4096....   \n",
              "43145  [['4096.0', '4096.0', '580.0', '580.0', '4096....   \n",
              "36960  [['(\"900.0\", \"750.0\", \"1050.0\")', '(\"900.0\", \"...   \n",
              "\n",
              "                                           has_pix_array  \\\n",
              "12464  [[False, False, False, False, False, False, Fa...   \n",
              "43145  [[False, False, False, False, False, False, Fa...   \n",
              "36960                     [[False, False, False, False]]   \n",
              "\n",
              "                                                category  \\\n",
              "12464  [['no image', 'no image', 'no image', 'no imag...   \n",
              "43145  [['no image', 'no image', 'no image', 'no imag...   \n",
              "36960  [['no image', 'no image', 'no image', 'no imag...   \n",
              "\n",
              "                                   VOILUTFunction  \\\n",
              "12464  [[nan, nan, nan, nan, nan, nan, nan, nan]]   \n",
              "43145  [[nan, nan, nan, nan, nan, nan, nan, nan]]   \n",
              "36960                      [[nan, nan, nan, nan]]   \n",
              "\n",
              "                     WindowCenterWidthExplanation  \n",
              "12464  [[nan, nan, nan, nan, nan, nan, nan, nan]]  \n",
              "43145  [[nan, nan, nan, nan, nan, nan, nan, nan]]  \n",
              "36960                      [[nan, nan, nan, nan]]  "
            ]
          },
          "execution_count": 6,
          "metadata": {},
          "output_type": "execute_result"
        }
      ],
      "source": [
        "df.sample(3)"
      ]
    },
    {
      "cell_type": "code",
      "execution_count": null,
      "metadata": {
        "id": "2Kb0DYwywmHG",
        "outputId": "845de0b9-824d-4f69-c70d-ec1453ccea36"
      },
      "outputs": [
        {
          "data": {
            "text/plain": [
              "array([nan,  4.,  0.,  1.,  3.,  2.,  5.])"
            ]
          },
          "execution_count": 7,
          "metadata": {},
          "output_type": "execute_result"
        }
      ],
      "source": [
        "df['path_severity'].unique()"
      ]
    },
    {
      "cell_type": "code",
      "execution_count": null,
      "metadata": {
        "id": "Cm4WRN6LwmHH",
        "outputId": "b16f0ee4-753b-4f7c-e0a9-07034c1b51f3"
      },
      "outputs": [
        {
          "data": {
            "text/plain": [
              "path_severity\n",
              "4.0    1205\n",
              "0.0     588\n",
              "2.0     355\n",
              "1.0     242\n",
              "3.0      28\n",
              "5.0      21\n",
              "Name: count, dtype: int64"
            ]
          },
          "execution_count": 8,
          "metadata": {},
          "output_type": "execute_result"
        }
      ],
      "source": [
        "df['path_severity'].value_counts()"
      ]
    },
    {
      "cell_type": "code",
      "execution_count": null,
      "metadata": {
        "id": "Vufcg6dLwmHI",
        "outputId": "e0afa407-dfbb-4f2b-bebf-dba4908eb1a2"
      },
      "outputs": [
        {
          "data": {
            "text/plain": [
              "52782"
            ]
          },
          "execution_count": 10,
          "metadata": {},
          "output_type": "execute_result"
        }
      ],
      "source": [
        "len(df)"
      ]
    },
    {
      "cell_type": "code",
      "execution_count": null,
      "metadata": {
        "id": "Ju9rJOk7wmHI",
        "outputId": "5197797b-2196-492d-ec03-87ff0683771d"
      },
      "outputs": [
        {
          "data": {
            "text/plain": [
              "50343"
            ]
          },
          "execution_count": 9,
          "metadata": {},
          "output_type": "execute_result"
        }
      ],
      "source": [
        "df['path_severity'].isna().sum()"
      ]
    },
    {
      "cell_type": "code",
      "execution_count": null,
      "metadata": {
        "id": "fYBNfCs9wmHI",
        "outputId": "a7181e83-d7bb-42de-94da-6ef0240b4577"
      },
      "outputs": [
        {
          "data": {
            "text/html": [
              "<div>\n",
              "<style scoped>\n",
              "    .dataframe tbody tr th:only-of-type {\n",
              "        vertical-align: middle;\n",
              "    }\n",
              "\n",
              "    .dataframe tbody tr th {\n",
              "        vertical-align: top;\n",
              "    }\n",
              "\n",
              "    .dataframe thead th {\n",
              "        text-align: right;\n",
              "    }\n",
              "</style>\n",
              "<table border=\"1\" class=\"dataframe\">\n",
              "  <thead>\n",
              "    <tr style=\"text-align: right;\">\n",
              "      <th></th>\n",
              "      <th>empi_anon</th>\n",
              "      <th>acc_anon</th>\n",
              "      <th>desc</th>\n",
              "      <th>numfind</th>\n",
              "      <th>side</th>\n",
              "      <th>asses</th>\n",
              "      <th>tissueden</th>\n",
              "      <th>bside</th>\n",
              "      <th>GENDER_DESC</th>\n",
              "      <th>RACE_DESC</th>\n",
              "      <th>ETHNIC_GROUP_DESC</th>\n",
              "      <th>MARITAL_STATUS_DESC</th>\n",
              "      <th>age_at_study</th>\n",
              "      <th>study_date_anon_x</th>\n",
              "      <th>procdate_anon</th>\n",
              "      <th>cohort_num_x</th>\n",
              "      <th>path_severity</th>\n",
              "      <th>total_L_find</th>\n",
              "      <th>total_R_find</th>\n",
              "      <th>first_3_zip</th>\n",
              "      <th>cohort_num_y</th>\n",
              "      <th>study_date_anon_y</th>\n",
              "      <th>StudyDescription</th>\n",
              "      <th>SeriesDescription</th>\n",
              "      <th>FinalImageType</th>\n",
              "      <th>ImageLateralityFinal</th>\n",
              "      <th>ViewPosition</th>\n",
              "      <th>spot_mag</th>\n",
              "      <th>anon_dicom_path</th>\n",
              "      <th>num_roi</th>\n",
              "      <th>ROI_coords</th>\n",
              "      <th>SRC_DST</th>\n",
              "      <th>match_level</th>\n",
              "      <th>Manufacturer</th>\n",
              "      <th>ManufacturerModelName</th>\n",
              "      <th>PatientSex</th>\n",
              "      <th>ProtocolName</th>\n",
              "      <th>SeriesNumber</th>\n",
              "      <th>SeriesTime</th>\n",
              "      <th>StudyID</th>\n",
              "      <th>WindowCenter</th>\n",
              "      <th>WindowWidth</th>\n",
              "      <th>has_pix_array</th>\n",
              "      <th>category</th>\n",
              "      <th>VOILUTFunction</th>\n",
              "      <th>WindowCenterWidthExplanation</th>\n",
              "    </tr>\n",
              "  </thead>\n",
              "  <tbody>\n",
              "    <tr>\n",
              "      <th>43699</th>\n",
              "      <td>10033806</td>\n",
              "      <td>1069386741434572</td>\n",
              "      <td>MG Screen Bilat w/Tomo/CAD Stnd Protocol</td>\n",
              "      <td>1</td>\n",
              "      <td>R</td>\n",
              "      <td>B</td>\n",
              "      <td>3.0</td>\n",
              "      <td>NaN</td>\n",
              "      <td>Female</td>\n",
              "      <td>Asian</td>\n",
              "      <td>Non-Hispanic or Latino</td>\n",
              "      <td>Married</td>\n",
              "      <td>49.137217</td>\n",
              "      <td>2019-10-05</td>\n",
              "      <td>NaN</td>\n",
              "      <td>1</td>\n",
              "      <td>NaN</td>\n",
              "      <td>0.0</td>\n",
              "      <td>1.0</td>\n",
              "      <td>300.0</td>\n",
              "      <td>[[1, 1, 1, 1, 1, 1]]</td>\n",
              "      <td>[['2019-10-05 00:00:00', '2019-10-05 00:00:00'...</td>\n",
              "      <td>[['MG Screen Bilat w/Tomo/CAD Stnd Protocol', ...</td>\n",
              "      <td>[['R MLO', 'R CC', 'R CC C-View', 'R MLO C-Vie...</td>\n",
              "      <td>[['2D', '2D', 'cview', 'cview', '2D', '2D']]</td>\n",
              "      <td>[['R', 'R', 'R', 'R', 'R', 'R']]</td>\n",
              "      <td>[['MLO', 'CC', 'CC', 'MLO', 'XCCL', 'MLO']]</td>\n",
              "      <td>[[nan, nan, nan, nan, nan, nan]]</td>\n",
              "      <td>[['/mnt/NAS2/mammo/anon_dicom/cohort_1/1003380...</td>\n",
              "      <td>[[0, 0, 0, 0, 0, 0]]</td>\n",
              "      <td>[['()', '()', '()', '()', '()', '()']]</td>\n",
              "      <td>[['[]', '[]', '[]', '[]', '[]', '[]']]</td>\n",
              "      <td>[['[]', '[]', '[]', '[]', '[]', '[]']]</td>\n",
              "      <td>[['HOLOGIC, Inc.', 'HOLOGIC, Inc.', 'HOLOGIC, ...</td>\n",
              "      <td>[['Selenia Dimensions', 'Selenia Dimensions', ...</td>\n",
              "      <td>[['F', 'F', 'F', 'F', 'F', 'F']]</td>\n",
              "      <td>[['R MLO', 'R CC ComboHD', 'R CC ComboHD', 'R ...</td>\n",
              "      <td>[[71100000, 71300000, 71300000, 71300000, 7110...</td>\n",
              "      <td>[[83207.0, 75914.0, 75914.0, 80321.0, 80014.0,...</td>\n",
              "      <td>[['MG Screen Bilat', 'MG Screen Bilat', 'MG Sc...</td>\n",
              "      <td>[['2047.0', '2047.0', '540.0', '540.0', '2047....</td>\n",
              "      <td>[['4096.0', '4096.0', '580.0', '580.0', '4096....</td>\n",
              "      <td>[[False, False, False, False, False, False]]</td>\n",
              "      <td>[['no image', 'no image', 'no image', 'no imag...</td>\n",
              "      <td>[[nan, nan, nan, nan, nan, nan]]</td>\n",
              "      <td>[[nan, nan, nan, nan, nan, nan]]</td>\n",
              "    </tr>\n",
              "    <tr>\n",
              "      <th>44018</th>\n",
              "      <td>10042753</td>\n",
              "      <td>1906889894591967</td>\n",
              "      <td>MG Diagnostic Bilateral w/ CAD</td>\n",
              "      <td>1</td>\n",
              "      <td>L</td>\n",
              "      <td>B</td>\n",
              "      <td>2.0</td>\n",
              "      <td>NaN</td>\n",
              "      <td>Female</td>\n",
              "      <td>Caucasian or White</td>\n",
              "      <td>Non-Hispanic or Latino</td>\n",
              "      <td>Married</td>\n",
              "      <td>73.904324</td>\n",
              "      <td>2018-05-13</td>\n",
              "      <td>NaN</td>\n",
              "      <td>2</td>\n",
              "      <td>NaN</td>\n",
              "      <td>1.0</td>\n",
              "      <td>0.0</td>\n",
              "      <td>302.0</td>\n",
              "      <td>[[2, 2, 2, 2, 2, 2, 2, 2, 2, 2]]</td>\n",
              "      <td>[['2018-05-13 00:00:00', '2018-05-13 00:00:00'...</td>\n",
              "      <td>[['MG Diagnostic Bilateral w/ CAD', 'MG Diagno...</td>\n",
              "      <td>[['L CC C-View', 'L ML C-View', 'L MLO C-View'...</td>\n",
              "      <td>[['cview', 'cview', 'cview', '2D', '2D', '2D',...</td>\n",
              "      <td>[['L', 'L', 'L', 'L', 'L', 'L', 'L', 'L', 'L',...</td>\n",
              "      <td>[['CC', 'ML', 'MLO', 'CC', 'ML', 'CC', 'CC', '...</td>\n",
              "      <td>[[nan, nan, nan, 1.0, nan, nan, nan, nan, nan,...</td>\n",
              "      <td>[['/mnt/NAS2/mammo/anon_dicom/cohort_2/1004275...</td>\n",
              "      <td>[[0, 0, 0, 0, 0, 0, 0, 0, 0, 0]]</td>\n",
              "      <td>[['()', '()', '()', '()', '()', '()', '()', '(...</td>\n",
              "      <td>[['[]', '[]', '[]', '[]', '[]', '[]', '[]', '[...</td>\n",
              "      <td>[['[]', '[]', '[]', '[]', '[]', '[]', '[]', '[...</td>\n",
              "      <td>[['HOLOGIC, Inc.', 'HOLOGIC, Inc.', 'HOLOGIC, ...</td>\n",
              "      <td>[['Selenia Dimensions', 'Selenia Dimensions', ...</td>\n",
              "      <td>[['F', 'F', 'F', 'F', 'F', 'F', 'F', 'F', 'F',...</td>\n",
              "      <td>[['L CC ComboHD', 'L ML ComboHD', 'L MLO Combo...</td>\n",
              "      <td>[[71300000, 71300000, 71300000, 71100000, 7130...</td>\n",
              "      <td>[[131300.0, 131604.0, 131425.0, 125224.0, 1316...</td>\n",
              "      <td>[['MG Diagnostic Bi', 'MG Diagnostic Bi', 'MG ...</td>\n",
              "      <td>[['540.0', '540.0', '540.0', '2047.0', '2047.0...</td>\n",
              "      <td>[['580.0', '580.0', '580.0', '4096.0', '4096.0...</td>\n",
              "      <td>[[False, False, False, False, False, False, Fa...</td>\n",
              "      <td>[['no image', 'no image', 'no image', 'no imag...</td>\n",
              "      <td>[[nan, nan, nan, nan, nan, nan, nan, nan, nan,...</td>\n",
              "      <td>[[nan, nan, nan, nan, nan, nan, nan, nan, nan,...</td>\n",
              "    </tr>\n",
              "    <tr>\n",
              "      <th>42106</th>\n",
              "      <td>10043985</td>\n",
              "      <td>1960584382049532</td>\n",
              "      <td>MG Screen Bilat w/Tomo/CAD Stnd Protocol</td>\n",
              "      <td>1</td>\n",
              "      <td>R</td>\n",
              "      <td>B</td>\n",
              "      <td>2.0</td>\n",
              "      <td>NaN</td>\n",
              "      <td>Female</td>\n",
              "      <td>African American  or Black</td>\n",
              "      <td>Non-Hispanic or Latino</td>\n",
              "      <td>Married</td>\n",
              "      <td>60.858197</td>\n",
              "      <td>2018-04-18</td>\n",
              "      <td>NaN</td>\n",
              "      <td>2</td>\n",
              "      <td>NaN</td>\n",
              "      <td>0.0</td>\n",
              "      <td>1.0</td>\n",
              "      <td>303.0</td>\n",
              "      <td>[[2, 2]]</td>\n",
              "      <td>[['2018-04-18 00:00:00', '2018-04-18 00:00:00']]</td>\n",
              "      <td>[['MG Screen Bilat w/Tomo/CAD Stnd Protocol', ...</td>\n",
              "      <td>[['R CC', 'R MLO']]</td>\n",
              "      <td>[['2D', '2D']]</td>\n",
              "      <td>[['R', 'R']]</td>\n",
              "      <td>[['CC', 'MLO']]</td>\n",
              "      <td>[[nan, nan]]</td>\n",
              "      <td>[['/mnt/NAS2/mammo/anon_dicom/cohort_2/1004398...</td>\n",
              "      <td>[[0, 0]]</td>\n",
              "      <td>[['()', '()']]</td>\n",
              "      <td>[['[]', '[]']]</td>\n",
              "      <td>[['[]', '[]']]</td>\n",
              "      <td>[['HOLOGIC, Inc.', 'HOLOGIC, Inc.']]</td>\n",
              "      <td>[['Selenia Dimensions', 'Selenia Dimensions']]</td>\n",
              "      <td>[['F', 'F']]</td>\n",
              "      <td>[['R CC Combo', 'R MLO Combo']]</td>\n",
              "      <td>[[71300000, 71300000]]</td>\n",
              "      <td>[[153433.0, 153641.0]]</td>\n",
              "      <td>[['MG Screening Dig', 'MG Screening Dig']]</td>\n",
              "      <td>[['2047.0', '2047.0']]</td>\n",
              "      <td>[['4096.0', '4096.0']]</td>\n",
              "      <td>[[False, False]]</td>\n",
              "      <td>[['no image', 'no image']]</td>\n",
              "      <td>[[nan, nan]]</td>\n",
              "      <td>[[nan, nan]]</td>\n",
              "    </tr>\n",
              "    <tr>\n",
              "      <th>7485</th>\n",
              "      <td>10043985</td>\n",
              "      <td>3613575521057039</td>\n",
              "      <td>MG Screening Bilateral</td>\n",
              "      <td>1</td>\n",
              "      <td>R</td>\n",
              "      <td>B</td>\n",
              "      <td>2.0</td>\n",
              "      <td>NaN</td>\n",
              "      <td>Female</td>\n",
              "      <td>African American  or Black</td>\n",
              "      <td>Non-Hispanic or Latino</td>\n",
              "      <td>Married</td>\n",
              "      <td>59.727441</td>\n",
              "      <td>2017-03-01</td>\n",
              "      <td>NaN</td>\n",
              "      <td>2</td>\n",
              "      <td>NaN</td>\n",
              "      <td>0.0</td>\n",
              "      <td>1.0</td>\n",
              "      <td>303.0</td>\n",
              "      <td>[[2, 2]]</td>\n",
              "      <td>[['2017-03-01 00:00:00', '2017-03-01 00:00:00']]</td>\n",
              "      <td>[['MG Screening Bilateral', 'MG Screening Bila...</td>\n",
              "      <td>[['R MLO', 'R CC']]</td>\n",
              "      <td>[['2D', '2D']]</td>\n",
              "      <td>[['R', 'R']]</td>\n",
              "      <td>[['MLO', 'CC']]</td>\n",
              "      <td>[[nan, nan]]</td>\n",
              "      <td>[['/mnt/NAS2/mammo/anon_dicom/cohort_2/1004398...</td>\n",
              "      <td>[[0, 0]]</td>\n",
              "      <td>[['()', '()']]</td>\n",
              "      <td>[['[]', '[]']]</td>\n",
              "      <td>[['[]', '[]']]</td>\n",
              "      <td>[['HOLOGIC, Inc.', 'HOLOGIC, Inc.']]</td>\n",
              "      <td>[['Lorad Selenia', 'Lorad Selenia']]</td>\n",
              "      <td>[['F', 'F']]</td>\n",
              "      <td>[['R MLO', 'R CC']]</td>\n",
              "      <td>[[2, 1]]</td>\n",
              "      <td>[[162901.0, 162901.0]]</td>\n",
              "      <td>[['00006MG160115562', '00006MG160115562']]</td>\n",
              "      <td>[['2047.0', '2047.0']]</td>\n",
              "      <td>[['4096.0', '4096.0']]</td>\n",
              "      <td>[[False, False]]</td>\n",
              "      <td>[['no image', 'no image']]</td>\n",
              "      <td>[[nan, nan]]</td>\n",
              "      <td>[[nan, nan]]</td>\n",
              "    </tr>\n",
              "    <tr>\n",
              "      <th>8767</th>\n",
              "      <td>10045075</td>\n",
              "      <td>8969018761230166</td>\n",
              "      <td>MG Diagnostic Bilateral w/Tomosynthesis</td>\n",
              "      <td>1</td>\n",
              "      <td>L</td>\n",
              "      <td>B</td>\n",
              "      <td>2.0</td>\n",
              "      <td>NaN</td>\n",
              "      <td>Female</td>\n",
              "      <td>Unknown, Unavailable or Unreported</td>\n",
              "      <td>Hispanic or Latino</td>\n",
              "      <td>Not Recorded</td>\n",
              "      <td>57.539854</td>\n",
              "      <td>2015-04-05</td>\n",
              "      <td>NaN</td>\n",
              "      <td>2</td>\n",
              "      <td>NaN</td>\n",
              "      <td>1.0</td>\n",
              "      <td>0.0</td>\n",
              "      <td>300.0</td>\n",
              "      <td>[[2, 2, 2, 2, 2]]</td>\n",
              "      <td>[['2015-04-05 00:00:00', '2015-04-05 00:00:00'...</td>\n",
              "      <td>[['MG Diagnostic Bilateral w/Tomosynthesis', '...</td>\n",
              "      <td>[['L XCCL', 'L CC', 'L MLO', 'L CC', 'L MLO']]</td>\n",
              "      <td>[['2D', '2D', '2D', '2D', '2D']]</td>\n",
              "      <td>[['L', 'L', 'L', 'L', 'L']]</td>\n",
              "      <td>[['XCCL', 'CC', 'MLO', 'CC', 'MLO']]</td>\n",
              "      <td>[[nan, nan, nan, nan, nan]]</td>\n",
              "      <td>[['/mnt/NAS2/mammo/anon_dicom/cohort_2/1004507...</td>\n",
              "      <td>[[0, 0, 0, 0, 0]]</td>\n",
              "      <td>[['()', '()', '()', '()', '()']]</td>\n",
              "      <td>[['[]', '[]', '[]', '[]', '[]']]</td>\n",
              "      <td>[['[]', '[]', '[]', '[]', '[]']]</td>\n",
              "      <td>[['HOLOGIC, Inc.', 'HOLOGIC, Inc.', 'HOLOGIC, ...</td>\n",
              "      <td>[['Selenia Dimensions', 'Selenia Dimensions', ...</td>\n",
              "      <td>[['F', 'F', 'F', 'F', 'F']]</td>\n",
              "      <td>[['L XCCLID', 'L CC', 'L MLOID Combo', 'L CCID...</td>\n",
              "      <td>[[71100000, 71100000, 71300000, 71300000, 7110...</td>\n",
              "      <td>[[100414.0, 95913.0, 100700.0, 100304.0, 10010...</td>\n",
              "      <td>[['MG Diagnostic Di', 'MG Diagnostic Di', 'MG ...</td>\n",
              "      <td>[['2047.0', '2047.0', '2047.0', '2047.0', '204...</td>\n",
              "      <td>[['4096.0', '4096.0', '4096.0', '4096.0', '409...</td>\n",
              "      <td>[[False, False, False, False, False]]</td>\n",
              "      <td>[['no image', 'no image', 'no image', 'no imag...</td>\n",
              "      <td>[[nan, nan, nan, nan, nan]]</td>\n",
              "      <td>[[nan, nan, nan, nan, nan]]</td>\n",
              "    </tr>\n",
              "  </tbody>\n",
              "</table>\n",
              "</div>"
            ],
            "text/plain": [
              "       empi_anon          acc_anon                                      desc  \\\n",
              "43699   10033806  1069386741434572  MG Screen Bilat w/Tomo/CAD Stnd Protocol   \n",
              "44018   10042753  1906889894591967            MG Diagnostic Bilateral w/ CAD   \n",
              "42106   10043985  1960584382049532  MG Screen Bilat w/Tomo/CAD Stnd Protocol   \n",
              "7485    10043985  3613575521057039                    MG Screening Bilateral   \n",
              "8767    10045075  8969018761230166   MG Diagnostic Bilateral w/Tomosynthesis   \n",
              "\n",
              "       numfind side asses  tissueden bside GENDER_DESC  \\\n",
              "43699        1    R     B        3.0   NaN      Female   \n",
              "44018        1    L     B        2.0   NaN      Female   \n",
              "42106        1    R     B        2.0   NaN      Female   \n",
              "7485         1    R     B        2.0   NaN      Female   \n",
              "8767         1    L     B        2.0   NaN      Female   \n",
              "\n",
              "                                RACE_DESC       ETHNIC_GROUP_DESC  \\\n",
              "43699                               Asian  Non-Hispanic or Latino   \n",
              "44018                  Caucasian or White  Non-Hispanic or Latino   \n",
              "42106          African American  or Black  Non-Hispanic or Latino   \n",
              "7485           African American  or Black  Non-Hispanic or Latino   \n",
              "8767   Unknown, Unavailable or Unreported      Hispanic or Latino   \n",
              "\n",
              "      MARITAL_STATUS_DESC  age_at_study study_date_anon_x procdate_anon  \\\n",
              "43699             Married     49.137217        2019-10-05           NaN   \n",
              "44018             Married     73.904324        2018-05-13           NaN   \n",
              "42106             Married     60.858197        2018-04-18           NaN   \n",
              "7485              Married     59.727441        2017-03-01           NaN   \n",
              "8767         Not Recorded     57.539854        2015-04-05           NaN   \n",
              "\n",
              "       cohort_num_x  path_severity  total_L_find  total_R_find  first_3_zip  \\\n",
              "43699             1            NaN           0.0           1.0        300.0   \n",
              "44018             2            NaN           1.0           0.0        302.0   \n",
              "42106             2            NaN           0.0           1.0        303.0   \n",
              "7485              2            NaN           0.0           1.0        303.0   \n",
              "8767              2            NaN           1.0           0.0        300.0   \n",
              "\n",
              "                           cohort_num_y  \\\n",
              "43699              [[1, 1, 1, 1, 1, 1]]   \n",
              "44018  [[2, 2, 2, 2, 2, 2, 2, 2, 2, 2]]   \n",
              "42106                          [[2, 2]]   \n",
              "7485                           [[2, 2]]   \n",
              "8767                  [[2, 2, 2, 2, 2]]   \n",
              "\n",
              "                                       study_date_anon_y  \\\n",
              "43699  [['2019-10-05 00:00:00', '2019-10-05 00:00:00'...   \n",
              "44018  [['2018-05-13 00:00:00', '2018-05-13 00:00:00'...   \n",
              "42106   [['2018-04-18 00:00:00', '2018-04-18 00:00:00']]   \n",
              "7485    [['2017-03-01 00:00:00', '2017-03-01 00:00:00']]   \n",
              "8767   [['2015-04-05 00:00:00', '2015-04-05 00:00:00'...   \n",
              "\n",
              "                                        StudyDescription  \\\n",
              "43699  [['MG Screen Bilat w/Tomo/CAD Stnd Protocol', ...   \n",
              "44018  [['MG Diagnostic Bilateral w/ CAD', 'MG Diagno...   \n",
              "42106  [['MG Screen Bilat w/Tomo/CAD Stnd Protocol', ...   \n",
              "7485   [['MG Screening Bilateral', 'MG Screening Bila...   \n",
              "8767   [['MG Diagnostic Bilateral w/Tomosynthesis', '...   \n",
              "\n",
              "                                       SeriesDescription  \\\n",
              "43699  [['R MLO', 'R CC', 'R CC C-View', 'R MLO C-Vie...   \n",
              "44018  [['L CC C-View', 'L ML C-View', 'L MLO C-View'...   \n",
              "42106                                [['R CC', 'R MLO']]   \n",
              "7485                                 [['R MLO', 'R CC']]   \n",
              "8767      [['L XCCL', 'L CC', 'L MLO', 'L CC', 'L MLO']]   \n",
              "\n",
              "                                          FinalImageType  \\\n",
              "43699       [['2D', '2D', 'cview', 'cview', '2D', '2D']]   \n",
              "44018  [['cview', 'cview', 'cview', '2D', '2D', '2D',...   \n",
              "42106                                     [['2D', '2D']]   \n",
              "7485                                      [['2D', '2D']]   \n",
              "8767                    [['2D', '2D', '2D', '2D', '2D']]   \n",
              "\n",
              "                                    ImageLateralityFinal  \\\n",
              "43699                   [['R', 'R', 'R', 'R', 'R', 'R']]   \n",
              "44018  [['L', 'L', 'L', 'L', 'L', 'L', 'L', 'L', 'L',...   \n",
              "42106                                       [['R', 'R']]   \n",
              "7485                                        [['R', 'R']]   \n",
              "8767                         [['L', 'L', 'L', 'L', 'L']]   \n",
              "\n",
              "                                            ViewPosition  \\\n",
              "43699        [['MLO', 'CC', 'CC', 'MLO', 'XCCL', 'MLO']]   \n",
              "44018  [['CC', 'ML', 'MLO', 'CC', 'ML', 'CC', 'CC', '...   \n",
              "42106                                    [['CC', 'MLO']]   \n",
              "7485                                     [['MLO', 'CC']]   \n",
              "8767                [['XCCL', 'CC', 'MLO', 'CC', 'MLO']]   \n",
              "\n",
              "                                                spot_mag  \\\n",
              "43699                   [[nan, nan, nan, nan, nan, nan]]   \n",
              "44018  [[nan, nan, nan, 1.0, nan, nan, nan, nan, nan,...   \n",
              "42106                                       [[nan, nan]]   \n",
              "7485                                        [[nan, nan]]   \n",
              "8767                         [[nan, nan, nan, nan, nan]]   \n",
              "\n",
              "                                         anon_dicom_path  \\\n",
              "43699  [['/mnt/NAS2/mammo/anon_dicom/cohort_1/1003380...   \n",
              "44018  [['/mnt/NAS2/mammo/anon_dicom/cohort_2/1004275...   \n",
              "42106  [['/mnt/NAS2/mammo/anon_dicom/cohort_2/1004398...   \n",
              "7485   [['/mnt/NAS2/mammo/anon_dicom/cohort_2/1004398...   \n",
              "8767   [['/mnt/NAS2/mammo/anon_dicom/cohort_2/1004507...   \n",
              "\n",
              "                                num_roi  \\\n",
              "43699              [[0, 0, 0, 0, 0, 0]]   \n",
              "44018  [[0, 0, 0, 0, 0, 0, 0, 0, 0, 0]]   \n",
              "42106                          [[0, 0]]   \n",
              "7485                           [[0, 0]]   \n",
              "8767                  [[0, 0, 0, 0, 0]]   \n",
              "\n",
              "                                              ROI_coords  \\\n",
              "43699             [['()', '()', '()', '()', '()', '()']]   \n",
              "44018  [['()', '()', '()', '()', '()', '()', '()', '(...   \n",
              "42106                                     [['()', '()']]   \n",
              "7485                                      [['()', '()']]   \n",
              "8767                    [['()', '()', '()', '()', '()']]   \n",
              "\n",
              "                                                 SRC_DST  \\\n",
              "43699             [['[]', '[]', '[]', '[]', '[]', '[]']]   \n",
              "44018  [['[]', '[]', '[]', '[]', '[]', '[]', '[]', '[...   \n",
              "42106                                     [['[]', '[]']]   \n",
              "7485                                      [['[]', '[]']]   \n",
              "8767                    [['[]', '[]', '[]', '[]', '[]']]   \n",
              "\n",
              "                                             match_level  \\\n",
              "43699             [['[]', '[]', '[]', '[]', '[]', '[]']]   \n",
              "44018  [['[]', '[]', '[]', '[]', '[]', '[]', '[]', '[...   \n",
              "42106                                     [['[]', '[]']]   \n",
              "7485                                      [['[]', '[]']]   \n",
              "8767                    [['[]', '[]', '[]', '[]', '[]']]   \n",
              "\n",
              "                                            Manufacturer  \\\n",
              "43699  [['HOLOGIC, Inc.', 'HOLOGIC, Inc.', 'HOLOGIC, ...   \n",
              "44018  [['HOLOGIC, Inc.', 'HOLOGIC, Inc.', 'HOLOGIC, ...   \n",
              "42106               [['HOLOGIC, Inc.', 'HOLOGIC, Inc.']]   \n",
              "7485                [['HOLOGIC, Inc.', 'HOLOGIC, Inc.']]   \n",
              "8767   [['HOLOGIC, Inc.', 'HOLOGIC, Inc.', 'HOLOGIC, ...   \n",
              "\n",
              "                                   ManufacturerModelName  \\\n",
              "43699  [['Selenia Dimensions', 'Selenia Dimensions', ...   \n",
              "44018  [['Selenia Dimensions', 'Selenia Dimensions', ...   \n",
              "42106     [['Selenia Dimensions', 'Selenia Dimensions']]   \n",
              "7485                [['Lorad Selenia', 'Lorad Selenia']]   \n",
              "8767   [['Selenia Dimensions', 'Selenia Dimensions', ...   \n",
              "\n",
              "                                              PatientSex  \\\n",
              "43699                   [['F', 'F', 'F', 'F', 'F', 'F']]   \n",
              "44018  [['F', 'F', 'F', 'F', 'F', 'F', 'F', 'F', 'F',...   \n",
              "42106                                       [['F', 'F']]   \n",
              "7485                                        [['F', 'F']]   \n",
              "8767                         [['F', 'F', 'F', 'F', 'F']]   \n",
              "\n",
              "                                            ProtocolName  \\\n",
              "43699  [['R MLO', 'R CC ComboHD', 'R CC ComboHD', 'R ...   \n",
              "44018  [['L CC ComboHD', 'L ML ComboHD', 'L MLO Combo...   \n",
              "42106                    [['R CC Combo', 'R MLO Combo']]   \n",
              "7485                                 [['R MLO', 'R CC']]   \n",
              "8767   [['L XCCLID', 'L CC', 'L MLOID Combo', 'L CCID...   \n",
              "\n",
              "                                            SeriesNumber  \\\n",
              "43699  [[71100000, 71300000, 71300000, 71300000, 7110...   \n",
              "44018  [[71300000, 71300000, 71300000, 71100000, 7130...   \n",
              "42106                             [[71300000, 71300000]]   \n",
              "7485                                            [[2, 1]]   \n",
              "8767   [[71100000, 71100000, 71300000, 71300000, 7110...   \n",
              "\n",
              "                                              SeriesTime  \\\n",
              "43699  [[83207.0, 75914.0, 75914.0, 80321.0, 80014.0,...   \n",
              "44018  [[131300.0, 131604.0, 131425.0, 125224.0, 1316...   \n",
              "42106                             [[153433.0, 153641.0]]   \n",
              "7485                              [[162901.0, 162901.0]]   \n",
              "8767   [[100414.0, 95913.0, 100700.0, 100304.0, 10010...   \n",
              "\n",
              "                                                 StudyID  \\\n",
              "43699  [['MG Screen Bilat', 'MG Screen Bilat', 'MG Sc...   \n",
              "44018  [['MG Diagnostic Bi', 'MG Diagnostic Bi', 'MG ...   \n",
              "42106         [['MG Screening Dig', 'MG Screening Dig']]   \n",
              "7485          [['00006MG160115562', '00006MG160115562']]   \n",
              "8767   [['MG Diagnostic Di', 'MG Diagnostic Di', 'MG ...   \n",
              "\n",
              "                                            WindowCenter  \\\n",
              "43699  [['2047.0', '2047.0', '540.0', '540.0', '2047....   \n",
              "44018  [['540.0', '540.0', '540.0', '2047.0', '2047.0...   \n",
              "42106                             [['2047.0', '2047.0']]   \n",
              "7485                              [['2047.0', '2047.0']]   \n",
              "8767   [['2047.0', '2047.0', '2047.0', '2047.0', '204...   \n",
              "\n",
              "                                             WindowWidth  \\\n",
              "43699  [['4096.0', '4096.0', '580.0', '580.0', '4096....   \n",
              "44018  [['580.0', '580.0', '580.0', '4096.0', '4096.0...   \n",
              "42106                             [['4096.0', '4096.0']]   \n",
              "7485                              [['4096.0', '4096.0']]   \n",
              "8767   [['4096.0', '4096.0', '4096.0', '4096.0', '409...   \n",
              "\n",
              "                                           has_pix_array  \\\n",
              "43699       [[False, False, False, False, False, False]]   \n",
              "44018  [[False, False, False, False, False, False, Fa...   \n",
              "42106                                   [[False, False]]   \n",
              "7485                                    [[False, False]]   \n",
              "8767               [[False, False, False, False, False]]   \n",
              "\n",
              "                                                category  \\\n",
              "43699  [['no image', 'no image', 'no image', 'no imag...   \n",
              "44018  [['no image', 'no image', 'no image', 'no imag...   \n",
              "42106                         [['no image', 'no image']]   \n",
              "7485                          [['no image', 'no image']]   \n",
              "8767   [['no image', 'no image', 'no image', 'no imag...   \n",
              "\n",
              "                                          VOILUTFunction  \\\n",
              "43699                   [[nan, nan, nan, nan, nan, nan]]   \n",
              "44018  [[nan, nan, nan, nan, nan, nan, nan, nan, nan,...   \n",
              "42106                                       [[nan, nan]]   \n",
              "7485                                        [[nan, nan]]   \n",
              "8767                         [[nan, nan, nan, nan, nan]]   \n",
              "\n",
              "                            WindowCenterWidthExplanation  \n",
              "43699                   [[nan, nan, nan, nan, nan, nan]]  \n",
              "44018  [[nan, nan, nan, nan, nan, nan, nan, nan, nan,...  \n",
              "42106                                       [[nan, nan]]  \n",
              "7485                                        [[nan, nan]]  \n",
              "8767                         [[nan, nan, nan, nan, nan]]  "
            ]
          },
          "execution_count": 30,
          "metadata": {},
          "output_type": "execute_result"
        }
      ],
      "source": [
        "# df[df.sort_values(by='empi_anon')]['asses']=='B'\n",
        "df[df['asses']=='B'].sort_values(by='empi_anon').head(5)\n",
        "# 10015693,\n",
        "# 10033806: B,\n",
        "# 10042753: B,\n",
        "# 10043985: B,"
      ]
    },
    {
      "cell_type": "code",
      "execution_count": null,
      "metadata": {
        "id": "R-hpqPdGwmHJ"
      },
      "outputs": [],
      "source": [
        "import pandas as pd\n",
        "df = pd.read_csv('/local/scratch/shared-directories/ssanet/SCRIPTS/test.csv')"
      ]
    },
    {
      "cell_type": "code",
      "execution_count": null,
      "metadata": {
        "id": "E1XdREP6wmHJ"
      },
      "outputs": [],
      "source": [
        "def convert_to_list(string):\n",
        "    # Remove the outer brackets and split by ', '\n",
        "    return string.strip(\"[]\").replace(\"'\", \"\").split(\", \")\n",
        "\n",
        "df['anon_dicom_path'] = df['anon_dicom_path'].apply(convert_to_list)\n",
        "\n",
        "\n",
        "def replace_path_prefix(paths, cohort_keywords=['/cohort_1', 'cohort_2']):\n",
        "    new_prefix = '/local/scratch/shared-directories/ssanet/embed-dataset-aws/images/'\n",
        "    updated_paths = []\n",
        "\n",
        "    for path in paths:\n",
        "        # Replace the part of the path before the cohort keyword\n",
        "        for keyword in cohort_keywords:\n",
        "            if keyword in path:\n",
        "                split_path = path.split(keyword)\n",
        "                updated_path = new_prefix + keyword.lstrip('/') + split_path[1]\n",
        "                updated_paths.append(updated_path)\n",
        "                break\n",
        "        else:\n",
        "            # If no cohort keyword is found, keep the path as is\n",
        "            updated_paths.append(path)\n",
        "\n",
        "    return updated_paths\n",
        "\n",
        "df['anon_dicom_path'] = df['anon_dicom_path'].apply(replace_path_prefix)\n",
        "\n"
      ]
    },
    {
      "cell_type": "code",
      "execution_count": null,
      "metadata": {
        "id": "Y8LRvNXqwmHJ",
        "outputId": "cd02c8ad-fdd5-4bee-aa83-1c139ce7ee30"
      },
      "outputs": [
        {
          "data": {
            "text/plain": [
              "array([list(['/local/scratch/shared-directories/ssanet/embed-dataset-aws/images/cohort_1/81968839/1.2.841.113976.3.63.1.53752039.20161013.1100763/1.2.847.113684.2750824498.1475823847.4269.79708.1/1.2.826.0.1.3680043.8.498.97914458751969773645522327507542628395.dcm', '/local/scratch/shared-directories/ssanet/embed-dataset-aws/images/cohort_1/81968839/1.2.841.113976.3.63.1.53752039.20161013.1100763/1.2.849.113682.2750824506.1475823843.4261.79724.1/1.2.826.0.1.3680043.8.498.86482261799939862849767242593468041429.dcm', '/local/scratch/shared-directories/ssanet/embed-dataset-aws/images/cohort_1/81968839/1.2.841.113976.3.63.1.53752039.20161013.1100763/1.2.848.113682.2750824501.1475823844.4269.79696/1.2.826.0.1.3680043.8.498.10384586188404653933369878451561834040.dcm', '/local/scratch/shared-directories/ssanet/embed-dataset-aws/images/cohort_1/81968839/1.2.841.113976.3.63.1.53752039.20161013.1100763/1.2.847.113688.2750824502.1475823845.4260.79711/1.2.826.0.1.3680043.8.498.29499166944578956862700611809792220824.dcm'])],\n",
              "      dtype=object)"
            ]
          },
          "execution_count": 30,
          "metadata": {},
          "output_type": "execute_result"
        }
      ],
      "source": [
        "df.sample(1)['anon_dicom_path'].values"
      ]
    },
    {
      "cell_type": "code",
      "execution_count": null,
      "metadata": {
        "id": "jHRn2xaywmHJ",
        "outputId": "c2f1b88f-a98f-4a2f-93b9-0da7010ee94e"
      },
      "outputs": [
        {
          "data": {
            "text/plain": [
              "['/mnt/NAS2/mammo/anon_dicom/cohort_2/69886802/1.2.841.113972.3.59.1.49011832.20140225.1091614/1.2.844.113628.2.67.2198800770.7638140220095637.10005/1.2.826.0.1.3680043.8.498.14887150938636124287792360088186723626.dcm',\n",
              " '/mnt/NAS2/mammo/anon_dicom/cohort_2/69886802/1.2.841.113972.3.59.1.49011832.20140225.1091614/1.2.844.113628.2.67.2198800770.7638140220095637.10005/1.2.826.0.1.3680043.8.498.13074859188686048180351460395477580363.dcm',\n",
              " '/mnt/NAS2/mammo/anon_dicom/cohort_2/69886802/1.2.841.113972.3.59.1.49011832.20140225.1091614/1.2.844.113628.2.67.2198800770.7638140220095637.10005/1.2.826.0.1.3680043.8.498.26807824134913992826961520446915946310.dcm']"
            ]
          },
          "execution_count": 24,
          "metadata": {},
          "output_type": "execute_result"
        }
      ],
      "source": [
        "df.head()['anon_dicom_path'].values[1]"
      ]
    },
    {
      "cell_type": "code",
      "execution_count": null,
      "metadata": {
        "id": "eFMlQZDJwmHJ"
      },
      "outputs": [],
      "source": [
        "df = pd.read_csv('/local/scratch/shared-directories/ssanet/SCRIPTS/train.csv')"
      ]
    },
    {
      "cell_type": "code",
      "execution_count": null,
      "metadata": {
        "id": "M_D4aYrnwmHK",
        "outputId": "418352d5-ee30-4a1c-a95b-63822ab09b99"
      },
      "outputs": [
        {
          "data": {
            "text/html": [
              "<div>\n",
              "<style scoped>\n",
              "    .dataframe tbody tr th:only-of-type {\n",
              "        vertical-align: middle;\n",
              "    }\n",
              "\n",
              "    .dataframe tbody tr th {\n",
              "        vertical-align: top;\n",
              "    }\n",
              "\n",
              "    .dataframe thead th {\n",
              "        text-align: right;\n",
              "    }\n",
              "</style>\n",
              "<table border=\"1\" class=\"dataframe\">\n",
              "  <thead>\n",
              "    <tr style=\"text-align: right;\">\n",
              "      <th></th>\n",
              "      <th>empi_anon</th>\n",
              "      <th>acc_anon</th>\n",
              "      <th>desc</th>\n",
              "      <th>numfind</th>\n",
              "      <th>side</th>\n",
              "      <th>asses</th>\n",
              "      <th>tissueden</th>\n",
              "      <th>bside</th>\n",
              "      <th>GENDER_DESC</th>\n",
              "      <th>RACE_DESC</th>\n",
              "      <th>ETHNIC_GROUP_DESC</th>\n",
              "      <th>MARITAL_STATUS_DESC</th>\n",
              "      <th>age_at_study</th>\n",
              "      <th>study_date_anon_x</th>\n",
              "      <th>procdate_anon</th>\n",
              "      <th>cohort_num_x</th>\n",
              "      <th>path_severity</th>\n",
              "      <th>total_L_find</th>\n",
              "      <th>total_R_find</th>\n",
              "      <th>first_3_zip</th>\n",
              "      <th>cohort_num_y</th>\n",
              "      <th>study_date_anon_y</th>\n",
              "      <th>StudyDescription</th>\n",
              "      <th>SeriesDescription</th>\n",
              "      <th>FinalImageType</th>\n",
              "      <th>ImageLateralityFinal</th>\n",
              "      <th>ViewPosition</th>\n",
              "      <th>spot_mag</th>\n",
              "      <th>anon_dicom_path</th>\n",
              "      <th>num_roi</th>\n",
              "      <th>ROI_coords</th>\n",
              "      <th>SRC_DST</th>\n",
              "      <th>match_level</th>\n",
              "      <th>Manufacturer</th>\n",
              "      <th>ManufacturerModelName</th>\n",
              "      <th>PatientSex</th>\n",
              "      <th>ProtocolName</th>\n",
              "      <th>SeriesNumber</th>\n",
              "      <th>SeriesTime</th>\n",
              "      <th>StudyID</th>\n",
              "      <th>WindowCenter</th>\n",
              "      <th>WindowWidth</th>\n",
              "      <th>has_pix_array</th>\n",
              "      <th>category</th>\n",
              "      <th>VOILUTFunction</th>\n",
              "      <th>WindowCenterWidthExplanation</th>\n",
              "    </tr>\n",
              "  </thead>\n",
              "  <tbody>\n",
              "    <tr>\n",
              "      <th>12188</th>\n",
              "      <td>86911238</td>\n",
              "      <td>4857638682755195</td>\n",
              "      <td>MG Diagnostic Bilateral w/ CAD</td>\n",
              "      <td>1</td>\n",
              "      <td>B</td>\n",
              "      <td>N</td>\n",
              "      <td>2.0</td>\n",
              "      <td>NaN</td>\n",
              "      <td>Male</td>\n",
              "      <td>African American  or Black</td>\n",
              "      <td>Non-Hispanic or Latino</td>\n",
              "      <td>Married</td>\n",
              "      <td>67.790577</td>\n",
              "      <td>2017-01-10</td>\n",
              "      <td>NaN</td>\n",
              "      <td>2</td>\n",
              "      <td>NaN</td>\n",
              "      <td>1.0</td>\n",
              "      <td>1.0</td>\n",
              "      <td>300.0</td>\n",
              "      <td>[[2, 2, 2, 2, 2, 2, 2, 2]]</td>\n",
              "      <td>[['2017-01-10 00:00:00', '2017-01-10 00:00:00'...</td>\n",
              "      <td>[['MG Diagnostic Bilateral w/ CAD', 'MG Diagno...</td>\n",
              "      <td>[['L CC', 'L XCCL', 'R CC', 'L XCCL', 'R XCCL'...</td>\n",
              "      <td>[['2D', '2D', '2D', '2D', '2D', '2D', '2D', '2...</td>\n",
              "      <td>[['L', 'L', 'R', 'L', 'R', 'L', 'L', 'R']]</td>\n",
              "      <td>[['CC', 'XCCL', 'CC', 'XCCL', 'XCCL', 'MLO', '...</td>\n",
              "      <td>[[nan, nan, nan, nan, nan, nan, nan, nan]]</td>\n",
              "      <td>[['/mnt/NAS2/mammo/anon_dicom/cohort_2/8691123...</td>\n",
              "      <td>[[0, 0, 0, 0, 0, 0, 0, 0]]</td>\n",
              "      <td>[['()', '()', '()', '()', '()', '()', '()', '(...</td>\n",
              "      <td>[['[]', '[]', '[]', '[]', '[]', '[]', '[]', '[...</td>\n",
              "      <td>[['[]', '[]', '[]', '[]', '[]', '[]', '[]', '[...</td>\n",
              "      <td>[['HOLOGIC, Inc.', 'HOLOGIC, Inc.', 'HOLOGIC, ...</td>\n",
              "      <td>[['Selenia Dimensions', 'Selenia Dimensions', ...</td>\n",
              "      <td>[['M', 'M', 'M', 'M', 'M', 'M', 'M', 'M']]</td>\n",
              "      <td>[['L CC', 'L XCCL', 'R CC', 'L XCCL', 'R XCCL'...</td>\n",
              "      <td>[[71100000, 71100000, 71100000, 71100000, 7110...</td>\n",
              "      <td>[[85332.0, 85517.0, 84904.0, 85439.0, 85014.0,...</td>\n",
              "      <td>[['MG Diagnostic Ma', 'MG Diagnostic Ma', 'MG ...</td>\n",
              "      <td>[['2047.0', '2047.0', '2047.0', '2047.0', '204...</td>\n",
              "      <td>[['4096.0', '4096.0', '4096.0', '4096.0', '409...</td>\n",
              "      <td>[[False, False, False, False, False, False, Fa...</td>\n",
              "      <td>[['no image', 'no image', 'no image', 'no imag...</td>\n",
              "      <td>[[nan, nan, nan, nan, nan, nan, nan, nan]]</td>\n",
              "      <td>[[nan, nan, nan, nan, nan, nan, nan, nan]]</td>\n",
              "    </tr>\n",
              "    <tr>\n",
              "      <th>52053</th>\n",
              "      <td>29322854</td>\n",
              "      <td>6711012431317963</td>\n",
              "      <td>MG Screen Bilat w/Tomo/CAD Stnd Protocol</td>\n",
              "      <td>1</td>\n",
              "      <td>NaN</td>\n",
              "      <td>N</td>\n",
              "      <td>3.0</td>\n",
              "      <td>NaN</td>\n",
              "      <td>Female</td>\n",
              "      <td>Caucasian or White</td>\n",
              "      <td>Non-Hispanic or Latino</td>\n",
              "      <td>Married</td>\n",
              "      <td>70.528485</td>\n",
              "      <td>2018-12-24</td>\n",
              "      <td>NaN</td>\n",
              "      <td>2</td>\n",
              "      <td>NaN</td>\n",
              "      <td>0.0</td>\n",
              "      <td>0.0</td>\n",
              "      <td>306.0</td>\n",
              "      <td>[[2, 2, 2, 2, 2, 2, 2, 2]]</td>\n",
              "      <td>[['2018-12-24 00:00:00', '2018-12-24 00:00:00'...</td>\n",
              "      <td>[['MG Screen Bilat w/Tomo/CAD Stnd Protocol', ...</td>\n",
              "      <td>[['L CC C-View', 'L MLO C-View', 'R CC C-View'...</td>\n",
              "      <td>[['cview', 'cview', 'cview', 'cview', '2D', '2...</td>\n",
              "      <td>[['L', 'L', 'R', 'R', 'L', 'R', 'R', 'L']]</td>\n",
              "      <td>[['CC', 'MLO', 'CC', 'MLO', 'CC', 'CC', 'MLO',...</td>\n",
              "      <td>[[nan, nan, nan, nan, nan, nan, nan, nan]]</td>\n",
              "      <td>[['/mnt/NAS2/mammo/anon_dicom/cohort_2/2932285...</td>\n",
              "      <td>[[0, 0, 0, 0, 0, 0, 0, 0]]</td>\n",
              "      <td>[['()', '()', '()', '()', '()', '()', '()', '(...</td>\n",
              "      <td>[['[]', '[]', '[]', '[]', '[]', '[]', '[]', '[...</td>\n",
              "      <td>[['[]', '[]', '[]', '[]', '[]', '[]', '[]', '[...</td>\n",
              "      <td>[['HOLOGIC, Inc.', 'HOLOGIC, Inc.', 'HOLOGIC, ...</td>\n",
              "      <td>[['Selenia Dimensions', 'Selenia Dimensions', ...</td>\n",
              "      <td>[['F', 'F', 'F', 'F', 'F', 'F', 'F', 'F']]</td>\n",
              "      <td>[['L CC ComboHD', 'L MLO ComboHD', 'R CC Combo...</td>\n",
              "      <td>[[71300000, 71300000, 71300000, 71300000, 7130...</td>\n",
              "      <td>[[111327.0, 111948.0, 111211.0, 111757.0, 1113...</td>\n",
              "      <td>[['MG Screen Bilat', 'MG Screen Bilat', 'MG Sc...</td>\n",
              "      <td>[['540.0', '540.0', '540.0', '540.0', '2047.0'...</td>\n",
              "      <td>[['580.0', '580.0', '580.0', '580.0', '4096.0'...</td>\n",
              "      <td>[[False, False, False, False, False, False, Fa...</td>\n",
              "      <td>[['no image', 'no image', 'no image', 'no imag...</td>\n",
              "      <td>[[nan, nan, nan, nan, nan, nan, nan, nan]]</td>\n",
              "      <td>[[nan, nan, nan, nan, nan, nan, nan, nan]]</td>\n",
              "    </tr>\n",
              "  </tbody>\n",
              "</table>\n",
              "</div>"
            ],
            "text/plain": [
              "       empi_anon          acc_anon                                      desc  \\\n",
              "12188   86911238  4857638682755195            MG Diagnostic Bilateral w/ CAD   \n",
              "52053   29322854  6711012431317963  MG Screen Bilat w/Tomo/CAD Stnd Protocol   \n",
              "\n",
              "       numfind side asses  tissueden bside GENDER_DESC  \\\n",
              "12188        1    B     N        2.0   NaN        Male   \n",
              "52053        1  NaN     N        3.0   NaN      Female   \n",
              "\n",
              "                        RACE_DESC       ETHNIC_GROUP_DESC MARITAL_STATUS_DESC  \\\n",
              "12188  African American  or Black  Non-Hispanic or Latino             Married   \n",
              "52053          Caucasian or White  Non-Hispanic or Latino             Married   \n",
              "\n",
              "       age_at_study study_date_anon_x procdate_anon  cohort_num_x  \\\n",
              "12188     67.790577        2017-01-10           NaN             2   \n",
              "52053     70.528485        2018-12-24           NaN             2   \n",
              "\n",
              "       path_severity  total_L_find  total_R_find  first_3_zip  \\\n",
              "12188            NaN           1.0           1.0        300.0   \n",
              "52053            NaN           0.0           0.0        306.0   \n",
              "\n",
              "                     cohort_num_y  \\\n",
              "12188  [[2, 2, 2, 2, 2, 2, 2, 2]]   \n",
              "52053  [[2, 2, 2, 2, 2, 2, 2, 2]]   \n",
              "\n",
              "                                       study_date_anon_y  \\\n",
              "12188  [['2017-01-10 00:00:00', '2017-01-10 00:00:00'...   \n",
              "52053  [['2018-12-24 00:00:00', '2018-12-24 00:00:00'...   \n",
              "\n",
              "                                        StudyDescription  \\\n",
              "12188  [['MG Diagnostic Bilateral w/ CAD', 'MG Diagno...   \n",
              "52053  [['MG Screen Bilat w/Tomo/CAD Stnd Protocol', ...   \n",
              "\n",
              "                                       SeriesDescription  \\\n",
              "12188  [['L CC', 'L XCCL', 'R CC', 'L XCCL', 'R XCCL'...   \n",
              "52053  [['L CC C-View', 'L MLO C-View', 'R CC C-View'...   \n",
              "\n",
              "                                          FinalImageType  \\\n",
              "12188  [['2D', '2D', '2D', '2D', '2D', '2D', '2D', '2...   \n",
              "52053  [['cview', 'cview', 'cview', 'cview', '2D', '2...   \n",
              "\n",
              "                             ImageLateralityFinal  \\\n",
              "12188  [['L', 'L', 'R', 'L', 'R', 'L', 'L', 'R']]   \n",
              "52053  [['L', 'L', 'R', 'R', 'L', 'R', 'R', 'L']]   \n",
              "\n",
              "                                            ViewPosition  \\\n",
              "12188  [['CC', 'XCCL', 'CC', 'XCCL', 'XCCL', 'MLO', '...   \n",
              "52053  [['CC', 'MLO', 'CC', 'MLO', 'CC', 'CC', 'MLO',...   \n",
              "\n",
              "                                         spot_mag  \\\n",
              "12188  [[nan, nan, nan, nan, nan, nan, nan, nan]]   \n",
              "52053  [[nan, nan, nan, nan, nan, nan, nan, nan]]   \n",
              "\n",
              "                                         anon_dicom_path  \\\n",
              "12188  [['/mnt/NAS2/mammo/anon_dicom/cohort_2/8691123...   \n",
              "52053  [['/mnt/NAS2/mammo/anon_dicom/cohort_2/2932285...   \n",
              "\n",
              "                          num_roi  \\\n",
              "12188  [[0, 0, 0, 0, 0, 0, 0, 0]]   \n",
              "52053  [[0, 0, 0, 0, 0, 0, 0, 0]]   \n",
              "\n",
              "                                              ROI_coords  \\\n",
              "12188  [['()', '()', '()', '()', '()', '()', '()', '(...   \n",
              "52053  [['()', '()', '()', '()', '()', '()', '()', '(...   \n",
              "\n",
              "                                                 SRC_DST  \\\n",
              "12188  [['[]', '[]', '[]', '[]', '[]', '[]', '[]', '[...   \n",
              "52053  [['[]', '[]', '[]', '[]', '[]', '[]', '[]', '[...   \n",
              "\n",
              "                                             match_level  \\\n",
              "12188  [['[]', '[]', '[]', '[]', '[]', '[]', '[]', '[...   \n",
              "52053  [['[]', '[]', '[]', '[]', '[]', '[]', '[]', '[...   \n",
              "\n",
              "                                            Manufacturer  \\\n",
              "12188  [['HOLOGIC, Inc.', 'HOLOGIC, Inc.', 'HOLOGIC, ...   \n",
              "52053  [['HOLOGIC, Inc.', 'HOLOGIC, Inc.', 'HOLOGIC, ...   \n",
              "\n",
              "                                   ManufacturerModelName  \\\n",
              "12188  [['Selenia Dimensions', 'Selenia Dimensions', ...   \n",
              "52053  [['Selenia Dimensions', 'Selenia Dimensions', ...   \n",
              "\n",
              "                                       PatientSex  \\\n",
              "12188  [['M', 'M', 'M', 'M', 'M', 'M', 'M', 'M']]   \n",
              "52053  [['F', 'F', 'F', 'F', 'F', 'F', 'F', 'F']]   \n",
              "\n",
              "                                            ProtocolName  \\\n",
              "12188  [['L CC', 'L XCCL', 'R CC', 'L XCCL', 'R XCCL'...   \n",
              "52053  [['L CC ComboHD', 'L MLO ComboHD', 'R CC Combo...   \n",
              "\n",
              "                                            SeriesNumber  \\\n",
              "12188  [[71100000, 71100000, 71100000, 71100000, 7110...   \n",
              "52053  [[71300000, 71300000, 71300000, 71300000, 7130...   \n",
              "\n",
              "                                              SeriesTime  \\\n",
              "12188  [[85332.0, 85517.0, 84904.0, 85439.0, 85014.0,...   \n",
              "52053  [[111327.0, 111948.0, 111211.0, 111757.0, 1113...   \n",
              "\n",
              "                                                 StudyID  \\\n",
              "12188  [['MG Diagnostic Ma', 'MG Diagnostic Ma', 'MG ...   \n",
              "52053  [['MG Screen Bilat', 'MG Screen Bilat', 'MG Sc...   \n",
              "\n",
              "                                            WindowCenter  \\\n",
              "12188  [['2047.0', '2047.0', '2047.0', '2047.0', '204...   \n",
              "52053  [['540.0', '540.0', '540.0', '540.0', '2047.0'...   \n",
              "\n",
              "                                             WindowWidth  \\\n",
              "12188  [['4096.0', '4096.0', '4096.0', '4096.0', '409...   \n",
              "52053  [['580.0', '580.0', '580.0', '580.0', '4096.0'...   \n",
              "\n",
              "                                           has_pix_array  \\\n",
              "12188  [[False, False, False, False, False, False, Fa...   \n",
              "52053  [[False, False, False, False, False, False, Fa...   \n",
              "\n",
              "                                                category  \\\n",
              "12188  [['no image', 'no image', 'no image', 'no imag...   \n",
              "52053  [['no image', 'no image', 'no image', 'no imag...   \n",
              "\n",
              "                                   VOILUTFunction  \\\n",
              "12188  [[nan, nan, nan, nan, nan, nan, nan, nan]]   \n",
              "52053  [[nan, nan, nan, nan, nan, nan, nan, nan]]   \n",
              "\n",
              "                     WindowCenterWidthExplanation  \n",
              "12188  [[nan, nan, nan, nan, nan, nan, nan, nan]]  \n",
              "52053  [[nan, nan, nan, nan, nan, nan, nan, nan]]  "
            ]
          },
          "execution_count": 3,
          "metadata": {},
          "output_type": "execute_result"
        }
      ],
      "source": [
        "df.sample(2\n",
        "          )"
      ]
    },
    {
      "cell_type": "code",
      "execution_count": null,
      "metadata": {
        "id": "IDY-bhlgwmHK"
      },
      "outputs": [],
      "source": []
    },
    {
      "cell_type": "code",
      "execution_count": null,
      "metadata": {
        "id": "I9a41VRdwmHL",
        "outputId": "4ac9c7e5-97c2-451c-db5a-a85df46abae4"
      },
      "outputs": [
        {
          "data": {
            "text/plain": [
              "side\n",
              "L    10925\n",
              "R    10676\n",
              "B     2302\n",
              "Name: count, dtype: int64"
            ]
          },
          "execution_count": 27,
          "metadata": {},
          "output_type": "execute_result"
        }
      ],
      "source": [
        "df['side'].value_counts()"
      ]
    },
    {
      "cell_type": "code",
      "execution_count": null,
      "metadata": {
        "id": "RnkDkPL7wmHL"
      },
      "outputs": [],
      "source": [
        "df_l = df[df['side']=='L']\n",
        "df_l = df_l.sample(2)"
      ]
    },
    {
      "cell_type": "code",
      "execution_count": null,
      "metadata": {
        "id": "ft15ckcKwmHM",
        "outputId": "47f7f01b-b9e7-4694-eac4-59027b74c361"
      },
      "outputs": [
        {
          "data": {
            "text/html": [
              "<div>\n",
              "<style scoped>\n",
              "    .dataframe tbody tr th:only-of-type {\n",
              "        vertical-align: middle;\n",
              "    }\n",
              "\n",
              "    .dataframe tbody tr th {\n",
              "        vertical-align: top;\n",
              "    }\n",
              "\n",
              "    .dataframe thead th {\n",
              "        text-align: right;\n",
              "    }\n",
              "</style>\n",
              "<table border=\"1\" class=\"dataframe\">\n",
              "  <thead>\n",
              "    <tr style=\"text-align: right;\">\n",
              "      <th></th>\n",
              "      <th>empi_anon</th>\n",
              "      <th>acc_anon</th>\n",
              "      <th>desc</th>\n",
              "      <th>numfind</th>\n",
              "      <th>side</th>\n",
              "      <th>asses</th>\n",
              "      <th>tissueden</th>\n",
              "      <th>bside</th>\n",
              "      <th>GENDER_DESC</th>\n",
              "      <th>RACE_DESC</th>\n",
              "      <th>ETHNIC_GROUP_DESC</th>\n",
              "      <th>MARITAL_STATUS_DESC</th>\n",
              "      <th>age_at_study</th>\n",
              "      <th>study_date_anon_x</th>\n",
              "      <th>procdate_anon</th>\n",
              "      <th>cohort_num_x</th>\n",
              "      <th>path_severity</th>\n",
              "      <th>total_L_find</th>\n",
              "      <th>total_R_find</th>\n",
              "      <th>first_3_zip</th>\n",
              "      <th>cohort_num_y</th>\n",
              "      <th>study_date_anon_y</th>\n",
              "      <th>StudyDescription</th>\n",
              "      <th>SeriesDescription</th>\n",
              "      <th>FinalImageType</th>\n",
              "      <th>ImageLateralityFinal</th>\n",
              "      <th>ViewPosition</th>\n",
              "      <th>spot_mag</th>\n",
              "      <th>anon_dicom_path</th>\n",
              "      <th>num_roi</th>\n",
              "      <th>ROI_coords</th>\n",
              "      <th>SRC_DST</th>\n",
              "      <th>match_level</th>\n",
              "      <th>Manufacturer</th>\n",
              "      <th>ManufacturerModelName</th>\n",
              "      <th>PatientSex</th>\n",
              "      <th>ProtocolName</th>\n",
              "      <th>SeriesNumber</th>\n",
              "      <th>SeriesTime</th>\n",
              "      <th>StudyID</th>\n",
              "      <th>WindowCenter</th>\n",
              "      <th>WindowWidth</th>\n",
              "      <th>has_pix_array</th>\n",
              "      <th>category</th>\n",
              "      <th>VOILUTFunction</th>\n",
              "      <th>WindowCenterWidthExplanation</th>\n",
              "    </tr>\n",
              "  </thead>\n",
              "  <tbody>\n",
              "    <tr>\n",
              "      <th>9946</th>\n",
              "      <td>76276880</td>\n",
              "      <td>8716913674935807</td>\n",
              "      <td>MG Screen Bilat w/Tomo/CAD Stnd Protocol</td>\n",
              "      <td>1</td>\n",
              "      <td>L</td>\n",
              "      <td>A</td>\n",
              "      <td>2.0</td>\n",
              "      <td>NaN</td>\n",
              "      <td>Female</td>\n",
              "      <td>Caucasian or White</td>\n",
              "      <td>Hispanic or Latino</td>\n",
              "      <td>Divorced</td>\n",
              "      <td>51.855959</td>\n",
              "      <td>2017-08-31</td>\n",
              "      <td>NaN</td>\n",
              "      <td>1</td>\n",
              "      <td>NaN</td>\n",
              "      <td>1.0</td>\n",
              "      <td>3.0</td>\n",
              "      <td>302.0</td>\n",
              "      <td>[[1, 1, 1, 1, 1, 1]]</td>\n",
              "      <td>[['2017-08-31 00:00:00', '2017-08-31 00:00:00'...</td>\n",
              "      <td>[['MG Screen Bilat w/Tomo/CAD Stnd Protocol', ...</td>\n",
              "      <td>[['L CC C-View', 'L CC', 'L MLO', 'L MLO C-Vie...</td>\n",
              "      <td>[['cview', '2D', '2D', 'cview', '2D', '2D']]</td>\n",
              "      <td>[['L', 'L', 'L', 'L', 'L', 'L']]</td>\n",
              "      <td>[['CC', 'CC', 'MLO', 'MLO', 'MLO', 'XCCL']]</td>\n",
              "      <td>[[nan, nan, nan, nan, nan, nan]]</td>\n",
              "      <td>[/local/scratch/shared-directories/ssanet/embe...</td>\n",
              "      <td>[[0, 0, 0, 0, 0, 0]]</td>\n",
              "      <td>[['()', '()', '()', '()', '()', '()']]</td>\n",
              "      <td>[['[]', '[]', '[]', '[]', '[]', '[]']]</td>\n",
              "      <td>[['[]', '[]', '[]', '[]', '[]', '[]']]</td>\n",
              "      <td>[['HOLOGIC, Inc.', 'HOLOGIC, Inc.', 'HOLOGIC, ...</td>\n",
              "      <td>[['Selenia Dimensions', 'Selenia Dimensions', ...</td>\n",
              "      <td>[['F', 'F', 'F', 'F', 'F', 'F']]</td>\n",
              "      <td>[['L CC ComboHD', 'L CC ComboHD', 'L MLO Combo...</td>\n",
              "      <td>[[71300000, 71300000, 71300000, 71300000, 7110...</td>\n",
              "      <td>[[102635.0, 102635.0, 102822.0, 102822.0, 1029...</td>\n",
              "      <td>[['MG Screening Dig', 'MG Screening Dig', 'MG ...</td>\n",
              "      <td>[['540.0', '2047.0', '2047.0', '540.0', '2047....</td>\n",
              "      <td>[['580.0', '4096.0', '4096.0', '580.0', '4096....</td>\n",
              "      <td>[[False, False, False, False, False, False]]</td>\n",
              "      <td>[['no image', 'no image', 'no image', 'no imag...</td>\n",
              "      <td>[[nan, nan, nan, nan, nan, nan]]</td>\n",
              "      <td>[[nan, nan, nan, nan, nan, nan]]</td>\n",
              "    </tr>\n",
              "    <tr>\n",
              "      <th>36639</th>\n",
              "      <td>66786013</td>\n",
              "      <td>5403651027278069</td>\n",
              "      <td>MG Screening Bilateral w/CAD</td>\n",
              "      <td>1</td>\n",
              "      <td>L</td>\n",
              "      <td>A</td>\n",
              "      <td>2.0</td>\n",
              "      <td>NaN</td>\n",
              "      <td>Female</td>\n",
              "      <td>African American  or Black</td>\n",
              "      <td>Non-Hispanic or Latino</td>\n",
              "      <td>Single</td>\n",
              "      <td>59.371513</td>\n",
              "      <td>2013-10-05</td>\n",
              "      <td>NaN</td>\n",
              "      <td>1</td>\n",
              "      <td>NaN</td>\n",
              "      <td>2.0</td>\n",
              "      <td>1.0</td>\n",
              "      <td>303.0</td>\n",
              "      <td>[[1, 1, 1]]</td>\n",
              "      <td>[['2013-10-05 00:00:00', '2013-10-05 00:00:00'...</td>\n",
              "      <td>[['MG Screening Bilateral w/CAD', 'MG Screenin...</td>\n",
              "      <td>[['L CC', 'L MLO', 'L XCCL']]</td>\n",
              "      <td>[['2D', '2D', '2D']]</td>\n",
              "      <td>[['L', 'L', 'L']]</td>\n",
              "      <td>[['CC', 'MLO', 'XCCL']]</td>\n",
              "      <td>[[nan, nan, nan]]</td>\n",
              "      <td>[/local/scratch/shared-directories/ssanet/embe...</td>\n",
              "      <td>[[0, 0, 0]]</td>\n",
              "      <td>[['()', '()', '()']]</td>\n",
              "      <td>[['[]', '[]', '[]']]</td>\n",
              "      <td>[['[]', '[]', '[]']]</td>\n",
              "      <td>[['HOLOGIC, Inc.', 'HOLOGIC, Inc.', 'HOLOGIC, ...</td>\n",
              "      <td>[['Selenia Dimensions', 'Selenia Dimensions', ...</td>\n",
              "      <td>[['F', 'F', 'F']]</td>\n",
              "      <td>[['LCC', 'LMLO', 'LXCCL']]</td>\n",
              "      <td>[[71100000, 71100000, 71100000]]</td>\n",
              "      <td>[[144200.0, 144638.0, 144400.0]]</td>\n",
              "      <td>[['MG Screening Dig', 'MG Screening Dig', 'MG ...</td>\n",
              "      <td>[['2047.0', '2047.0', '2047.0']]</td>\n",
              "      <td>[['4096.0', '4096.0', '4096.0']]</td>\n",
              "      <td>[[False, False, False]]</td>\n",
              "      <td>[['no image', 'no image', 'no image']]</td>\n",
              "      <td>[[nan, nan, nan]]</td>\n",
              "      <td>[[nan, nan, nan]]</td>\n",
              "    </tr>\n",
              "  </tbody>\n",
              "</table>\n",
              "</div>"
            ],
            "text/plain": [
              "       empi_anon          acc_anon                                      desc  \\\n",
              "9946    76276880  8716913674935807  MG Screen Bilat w/Tomo/CAD Stnd Protocol   \n",
              "36639   66786013  5403651027278069              MG Screening Bilateral w/CAD   \n",
              "\n",
              "       numfind side asses  tissueden bside GENDER_DESC  \\\n",
              "9946         1    L     A        2.0   NaN      Female   \n",
              "36639        1    L     A        2.0   NaN      Female   \n",
              "\n",
              "                        RACE_DESC       ETHNIC_GROUP_DESC MARITAL_STATUS_DESC  \\\n",
              "9946           Caucasian or White      Hispanic or Latino            Divorced   \n",
              "36639  African American  or Black  Non-Hispanic or Latino              Single   \n",
              "\n",
              "       age_at_study study_date_anon_x procdate_anon  cohort_num_x  \\\n",
              "9946      51.855959        2017-08-31           NaN             1   \n",
              "36639     59.371513        2013-10-05           NaN             1   \n",
              "\n",
              "       path_severity  total_L_find  total_R_find  first_3_zip  \\\n",
              "9946             NaN           1.0           3.0        302.0   \n",
              "36639            NaN           2.0           1.0        303.0   \n",
              "\n",
              "               cohort_num_y  \\\n",
              "9946   [[1, 1, 1, 1, 1, 1]]   \n",
              "36639           [[1, 1, 1]]   \n",
              "\n",
              "                                       study_date_anon_y  \\\n",
              "9946   [['2017-08-31 00:00:00', '2017-08-31 00:00:00'...   \n",
              "36639  [['2013-10-05 00:00:00', '2013-10-05 00:00:00'...   \n",
              "\n",
              "                                        StudyDescription  \\\n",
              "9946   [['MG Screen Bilat w/Tomo/CAD Stnd Protocol', ...   \n",
              "36639  [['MG Screening Bilateral w/CAD', 'MG Screenin...   \n",
              "\n",
              "                                       SeriesDescription  \\\n",
              "9946   [['L CC C-View', 'L CC', 'L MLO', 'L MLO C-Vie...   \n",
              "36639                      [['L CC', 'L MLO', 'L XCCL']]   \n",
              "\n",
              "                                     FinalImageType  \\\n",
              "9946   [['cview', '2D', '2D', 'cview', '2D', '2D']]   \n",
              "36639                          [['2D', '2D', '2D']]   \n",
              "\n",
              "                   ImageLateralityFinal  \\\n",
              "9946   [['L', 'L', 'L', 'L', 'L', 'L']]   \n",
              "36639                 [['L', 'L', 'L']]   \n",
              "\n",
              "                                      ViewPosition  \\\n",
              "9946   [['CC', 'CC', 'MLO', 'MLO', 'MLO', 'XCCL']]   \n",
              "36639                      [['CC', 'MLO', 'XCCL']]   \n",
              "\n",
              "                               spot_mag  \\\n",
              "9946   [[nan, nan, nan, nan, nan, nan]]   \n",
              "36639                 [[nan, nan, nan]]   \n",
              "\n",
              "                                         anon_dicom_path  \\\n",
              "9946   [/local/scratch/shared-directories/ssanet/embe...   \n",
              "36639  [/local/scratch/shared-directories/ssanet/embe...   \n",
              "\n",
              "                    num_roi                              ROI_coords  \\\n",
              "9946   [[0, 0, 0, 0, 0, 0]]  [['()', '()', '()', '()', '()', '()']]   \n",
              "36639           [[0, 0, 0]]                    [['()', '()', '()']]   \n",
              "\n",
              "                                      SRC_DST  \\\n",
              "9946   [['[]', '[]', '[]', '[]', '[]', '[]']]   \n",
              "36639                    [['[]', '[]', '[]']]   \n",
              "\n",
              "                                  match_level  \\\n",
              "9946   [['[]', '[]', '[]', '[]', '[]', '[]']]   \n",
              "36639                    [['[]', '[]', '[]']]   \n",
              "\n",
              "                                            Manufacturer  \\\n",
              "9946   [['HOLOGIC, Inc.', 'HOLOGIC, Inc.', 'HOLOGIC, ...   \n",
              "36639  [['HOLOGIC, Inc.', 'HOLOGIC, Inc.', 'HOLOGIC, ...   \n",
              "\n",
              "                                   ManufacturerModelName  \\\n",
              "9946   [['Selenia Dimensions', 'Selenia Dimensions', ...   \n",
              "36639  [['Selenia Dimensions', 'Selenia Dimensions', ...   \n",
              "\n",
              "                             PatientSex  \\\n",
              "9946   [['F', 'F', 'F', 'F', 'F', 'F']]   \n",
              "36639                 [['F', 'F', 'F']]   \n",
              "\n",
              "                                            ProtocolName  \\\n",
              "9946   [['L CC ComboHD', 'L CC ComboHD', 'L MLO Combo...   \n",
              "36639                         [['LCC', 'LMLO', 'LXCCL']]   \n",
              "\n",
              "                                            SeriesNumber  \\\n",
              "9946   [[71300000, 71300000, 71300000, 71300000, 7110...   \n",
              "36639                   [[71100000, 71100000, 71100000]]   \n",
              "\n",
              "                                              SeriesTime  \\\n",
              "9946   [[102635.0, 102635.0, 102822.0, 102822.0, 1029...   \n",
              "36639                   [[144200.0, 144638.0, 144400.0]]   \n",
              "\n",
              "                                                 StudyID  \\\n",
              "9946   [['MG Screening Dig', 'MG Screening Dig', 'MG ...   \n",
              "36639  [['MG Screening Dig', 'MG Screening Dig', 'MG ...   \n",
              "\n",
              "                                            WindowCenter  \\\n",
              "9946   [['540.0', '2047.0', '2047.0', '540.0', '2047....   \n",
              "36639                   [['2047.0', '2047.0', '2047.0']]   \n",
              "\n",
              "                                             WindowWidth  \\\n",
              "9946   [['580.0', '4096.0', '4096.0', '580.0', '4096....   \n",
              "36639                   [['4096.0', '4096.0', '4096.0']]   \n",
              "\n",
              "                                      has_pix_array  \\\n",
              "9946   [[False, False, False, False, False, False]]   \n",
              "36639                       [[False, False, False]]   \n",
              "\n",
              "                                                category  \\\n",
              "9946   [['no image', 'no image', 'no image', 'no imag...   \n",
              "36639             [['no image', 'no image', 'no image']]   \n",
              "\n",
              "                         VOILUTFunction      WindowCenterWidthExplanation  \n",
              "9946   [[nan, nan, nan, nan, nan, nan]]  [[nan, nan, nan, nan, nan, nan]]  \n",
              "36639                 [[nan, nan, nan]]                 [[nan, nan, nan]]  "
            ]
          },
          "execution_count": 29,
          "metadata": {},
          "output_type": "execute_result"
        }
      ],
      "source": [
        "df_l"
      ]
    },
    {
      "cell_type": "code",
      "execution_count": null,
      "metadata": {
        "id": "cMEYodU5wmHM",
        "outputId": "408475b8-5577-4755-e14a-d66dd872ad7b"
      },
      "outputs": [
        {
          "data": {
            "text/plain": [
              "9946     [/local/scratch/shared-directories/ssanet/embe...\n",
              "36639    [/local/scratch/shared-directories/ssanet/embe...\n",
              "Name: anon_dicom_path, dtype: object"
            ]
          },
          "execution_count": 35,
          "metadata": {},
          "output_type": "execute_result"
        }
      ],
      "source": [
        "df_l['anon_dicom_path']\n"
      ]
    },
    {
      "cell_type": "code",
      "execution_count": null,
      "metadata": {
        "id": "TK45JjbqwmHM"
      },
      "outputs": [],
      "source": [
        "import numpy as np\n",
        "from PIL import Image\n",
        "import matplotlib.pyplot as plt\n",
        "import pydicom\n",
        "import skimage.exposure as exposure\n",
        "\n",
        "\n",
        "def preprocess_dicom_image(dicom_path):\n",
        "    dicom = pydicom.read_file(dicom_path)\n",
        "    image = dicom.pixel_array * dicom.RescaleSlope + dicom.RescaleIntercept\n",
        "    image = np.nan_to_num(image)\n",
        "    image = (image - image.min()) / (image.max() - image.min())\n",
        "    p2, p98 = np.percentile(image, (2, 98))\n",
        "    image = exposure.rescale_intensity(image, in_range=(p2, p98))\n",
        "    # convert to grayscale using plt\n",
        "    image = plt.cm.gray(image)\n",
        "    plt.imsave('test.png', image)\n",
        "    return image\n",
        "\n",
        "\n",
        "def aggregate_images(image_list):\n",
        "    return np.mean(np.stack(image_list, axis=0), axis=0)\n",
        "\n",
        "df_l['image_arrays'] = df_l['anon_dicom_path'].apply(lambda x: aggregate_images([preprocess_dicom_image(path) for path in x]) if isinstance(x, list) else np.zeros((224, 224)))"
      ]
    },
    {
      "cell_type": "code",
      "execution_count": null,
      "metadata": {
        "id": "aPwspH4JwmHN",
        "outputId": "d38b3f6e-87fd-492d-bb12-b40c0cc7db06"
      },
      "outputs": [
        {
          "name": "stdout",
          "output_type": "stream",
          "text": [
            "Converted /local/scratch/shared-directories/ssanet/embed-dataset-aws/images/cohort_1/76276880/1.2.841.113974.3.57.1.54789586.20170422.1100368/1.2.848.113688.2750824498.1492497423.4204.19097.1/1.2.826.0.1.3680043.8.498.65264159218472449111114878745003398346.dcm to /local/scratch/shared-directories/ssanet/SCRIPTS/1.2.826.0.1.3680043.8.498.65264159218472449111114878745003398346.png\n",
            "Converted /local/scratch/shared-directories/ssanet/embed-dataset-aws/images/cohort_1/76276880/1.2.841.113974.3.57.1.54789586.20170422.1100368/1.2.846.113687.2750824504.1492497421.4209.19086/1.2.826.0.1.3680043.8.498.69550975807587698161748400544861690240.dcm to /local/scratch/shared-directories/ssanet/SCRIPTS/1.2.826.0.1.3680043.8.498.69550975807587698161748400544861690240.png\n",
            "Converted /local/scratch/shared-directories/ssanet/embed-dataset-aws/images/cohort_1/76276880/1.2.841.113974.3.57.1.54789586.20170422.1100368/1.2.843.113682.2750824507.1492497425.4207.19104/1.2.826.0.1.3680043.8.498.28147853187834821233148522389007079510.dcm to /local/scratch/shared-directories/ssanet/SCRIPTS/1.2.826.0.1.3680043.8.498.28147853187834821233148522389007079510.png\n",
            "Converted /local/scratch/shared-directories/ssanet/embed-dataset-aws/images/cohort_1/76276880/1.2.841.113974.3.57.1.54789586.20170422.1100368/1.2.840.113689.2750824503.1492497429.4205.19117.1/1.2.826.0.1.3680043.8.498.66063032703843337938761681156202996993.dcm to /local/scratch/shared-directories/ssanet/SCRIPTS/1.2.826.0.1.3680043.8.498.66063032703843337938761681156202996993.png\n",
            "Converted /local/scratch/shared-directories/ssanet/embed-dataset-aws/images/cohort_1/76276880/1.2.841.113974.3.57.1.54789586.20170422.1100368/1.2.845.113685.2750824499.1492497427.4205.19276/1.2.826.0.1.3680043.8.498.13028897565603133687804342707481338007.dcm to /local/scratch/shared-directories/ssanet/SCRIPTS/1.2.826.0.1.3680043.8.498.13028897565603133687804342707481338007.png\n",
            "Converted /local/scratch/shared-directories/ssanet/embed-dataset-aws/images/cohort_1/76276880/1.2.841.113974.3.57.1.54789586.20170422.1100368/1.2.845.113688.2750824498.1492497423.4209.19213/1.2.826.0.1.3680043.8.498.29887342444529042507184728294107919412.dcm to /local/scratch/shared-directories/ssanet/SCRIPTS/1.2.826.0.1.3680043.8.498.29887342444529042507184728294107919412.png\n",
            "Converted /local/scratch/shared-directories/ssanet/embed-dataset-aws/images/cohort_1/66786013/1.2.840.113971.3.57.1.48016198.20130720.1141252/1.2.849.113685.2750824972.1373523888.4528.107057/1.2.826.0.1.3680043.8.498.62309509675370993972820932765724044377.dcm to /local/scratch/shared-directories/ssanet/SCRIPTS/1.2.826.0.1.3680043.8.498.62309509675370993972820932765724044377.png\n",
            "Converted /local/scratch/shared-directories/ssanet/embed-dataset-aws/images/cohort_1/66786013/1.2.840.113971.3.57.1.48016198.20130720.1141252/1.2.848.113690.2750824979.1373523883.4529.107051/1.2.826.0.1.3680043.8.498.10026413310335306385999776390258490654.dcm to /local/scratch/shared-directories/ssanet/SCRIPTS/1.2.826.0.1.3680043.8.498.10026413310335306385999776390258490654.png\n",
            "Converted /local/scratch/shared-directories/ssanet/embed-dataset-aws/images/cohort_1/66786013/1.2.840.113971.3.57.1.48016198.20130720.1141252/1.2.844.113686.2750824981.1373523888.4523.107103/1.2.826.0.1.3680043.8.498.89885486915084461532051585714610818917.dcm to /local/scratch/shared-directories/ssanet/SCRIPTS/1.2.826.0.1.3680043.8.498.89885486915084461532051585714610818917.png\n"
          ]
        }
      ],
      "source": [
        "import pydicom\n",
        "from PIL import Image\n",
        "import numpy as np\n",
        "import pandas as pd\n",
        "import os\n",
        "\n",
        "def dicom_to_png(dicom_file, output_folder):\n",
        "    \"\"\"\n",
        "    Convert a DICOM file to a grayscale PNG image.\n",
        "    \"\"\"\n",
        "    # Load the DICOM image\n",
        "    ds = pydicom.dcmread(dicom_file)\n",
        "\n",
        "    # Get the pixel array from the DICOM object\n",
        "    image_data = ds.pixel_array\n",
        "\n",
        "    # Normalize or scale the image data to be in the range of 0-255\n",
        "    image_data = (np.maximum(image_data, 0) / image_data.max()) * 255.0\n",
        "    image_data = np.uint8(image_data)\n",
        "\n",
        "    # Convert to a PIL image and save as PNG\n",
        "    image = Image.fromarray(image_data)\n",
        "    png_filename = os.path.join(output_folder, os.path.basename(dicom_file).replace('.dcm', '.png'))\n",
        "    image.save(png_filename)\n",
        "\n",
        "    return png_filename\n",
        "\n",
        "\n",
        "\n",
        "output_folder = '/local/scratch/shared-directories/ssanet/SCRIPTS'\n",
        "\n",
        "# Ensure the output folder exists\n",
        "os.makedirs(output_folder, exist_ok=True)\n",
        "\n",
        "# Apply the conversion to each DICOM image in each list\n",
        "for index, row in df_l.iterrows():\n",
        "    for dicom_path in row['anon_dicom_path']:\n",
        "        png_path = dicom_to_png(dicom_path, output_folder)\n",
        "        print(f\"Converted {dicom_path} to {png_path}\")\n"
      ]
    },
    {
      "cell_type": "code",
      "execution_count": null,
      "metadata": {
        "id": "Lm4NyvnXwmHO"
      },
      "outputs": [],
      "source": [
        "def convert_to_list(string):\n",
        "    return string.strip(\"[]\").replace(\"'\", \"\").split(\", \")\n",
        "df['anon_dicom_path'] = df['anon_dicom_path'].apply(convert_to_list)\n",
        "\n",
        "def replace_path_prefix(paths, cohort_keywords=['/cohort_1', 'cohort_2']):\n",
        "    new_prefix = '/local/scratch/shared-directories/ssanet/embed-dataset-aws/images/'\n",
        "    updated_paths = []\n",
        "\n",
        "    for path in paths:\n",
        "        # Replace the part of the path before the cohort keyword\n",
        "        for keyword in cohort_keywords:\n",
        "            if keyword in path:\n",
        "                split_path = path.split(keyword)\n",
        "                updated_path = new_prefix + keyword.lstrip('/') + split_path[1]\n",
        "                updated_paths.append(updated_path)\n",
        "                break\n",
        "        else:\n",
        "            # If no cohort keyword is found, keep the path as is\n",
        "            updated_paths.append(path)\n",
        "\n",
        "    return updated_paths\n",
        "df['anon_dicom_path'] = df['anon_dicom_path'].apply(replace_path_prefix)"
      ]
    },
    {
      "cell_type": "code",
      "execution_count": null,
      "metadata": {
        "id": "rNjy61mmwmHW",
        "outputId": "3330c16e-f24f-458e-aabf-6e930b018f06"
      },
      "outputs": [
        {
          "name": "stdout",
          "output_type": "stream",
          "text": [
            "22\n"
          ]
        },
        {
          "data": {
            "text/plain": [
              "1"
            ]
          },
          "execution_count": 5,
          "metadata": {},
          "output_type": "execute_result"
        }
      ],
      "source": [
        "# print the max and min length of the list in anon_dicom_path without iterating over the list\n",
        "print(df['anon_dicom_path'].str.len().max())\n",
        "df['anon_dicom_path'].str.len().min()"
      ]
    },
    {
      "cell_type": "code",
      "execution_count": null,
      "metadata": {
        "id": "vGLZXECawmHW"
      },
      "outputs": [],
      "source": [
        "df_converted_images = pd.read_csv('/local/scratch/shared-directories/ssanet/aditya/converted_images.csv')"
      ]
    },
    {
      "cell_type": "code",
      "execution_count": null,
      "metadata": {
        "id": "Ltg6W9TEwmHW",
        "outputId": "37b75354-567e-4dae-9706-2b66d85ec6cf"
      },
      "outputs": [
        {
          "name": "stderr",
          "output_type": "stream",
          "text": [
            "/tmp/ipykernel_2544678/1231428682.py:2: DtypeWarning: Columns (20) have mixed types. Specify dtype option on import or set low_memory=False.\n",
            "  df_original = pd.read_csv('/local/scratch/shared-directories/ssanet/embed-dataset-aws/tables/EMBED_OpenData_clinical_reduced.csv')\n"
          ]
        },
        {
          "data": {
            "text/plain": [
              "asses\n",
              "N    45972\n",
              "B    15018\n",
              "A    11425\n",
              "P     5570\n",
              "S     3085\n",
              "K      395\n",
              "M      285\n",
              "X       26\n",
              "Name: count, dtype: int64"
            ]
          },
          "execution_count": 1,
          "metadata": {},
          "output_type": "execute_result"
        }
      ],
      "source": [
        "import pandas as pd\n",
        "df_original = pd.read_csv('/local/scratch/shared-directories/ssanet/embed-dataset-aws/tables/EMBED_OpenData_clinical_reduced.csv')\n",
        "df_original['asses'].value_counts()"
      ]
    },
    {
      "cell_type": "code",
      "execution_count": null,
      "metadata": {
        "id": "ENakULS_wmHW",
        "outputId": "57e6a3d5-1d44-448b-a24d-23f62f438bdb"
      },
      "outputs": [
        {
          "data": {
            "text/plain": [
              "asses\n",
              "1    45276\n",
              "2    11968\n",
              "0     9167\n",
              "3     6898\n",
              "Name: count, dtype: int64"
            ]
          },
          "execution_count": 7,
          "metadata": {},
          "output_type": "execute_result"
        }
      ],
      "source": [
        "import pandas as pd\n",
        "df_1 = pd.read_csv('/local/scratch/shared-directories/ssanet/SCRIPTS/Preprocessed Datasets/test_preprocessed.csv')\n",
        "df_2 = pd.read_csv('/local/scratch/shared-directories/ssanet/SCRIPTS/Preprocessed Datasets/train_preprocessed.csv')\n",
        "df_3 = pd.read_csv('/local/scratch/shared-directories/ssanet/SCRIPTS/Preprocessed Datasets/val_preprocessed.csv')\n",
        "combined_df = pd.concat([df_1,df_2,df_3], ignore_index=True)\n",
        "combined_df['asses'].value_counts()"
      ]
    },
    {
      "cell_type": "code",
      "execution_count": null,
      "metadata": {
        "id": "2da8-BKXwmHW",
        "outputId": "446153b3-14bc-4afe-8fc8-7641a7f4bf5b"
      },
      "outputs": [
        {
          "data": {
            "text/plain": [
              "421307"
            ]
          },
          "execution_count": 5,
          "metadata": {},
          "output_type": "execute_result"
        }
      ],
      "source": [
        "total_images = combined_df['anon_dicom_path'].sum()\n",
        "total_images"
      ]
    },
    {
      "cell_type": "code",
      "execution_count": null,
      "metadata": {
        "id": "zhxTPxJYwmHX",
        "outputId": "fb3eebed-3750-4487-8cf2-944a8b96c4d3"
      },
      "outputs": [
        {
          "name": "stdout",
          "output_type": "stream",
          "text": [
            "Test images: 42330\n",
            "Train images: 303140\n",
            "Validation images: 75837\n"
          ]
        }
      ],
      "source": [
        "print(\"Test images:\",df_1['anon_dicom_path'].sum())\n",
        "print(\"Train images:\",df_2['anon_dicom_path'].sum())\n",
        "print(\"Validation images:\",df_3['anon_dicom_path'].sum())"
      ]
    },
    {
      "cell_type": "code",
      "execution_count": null,
      "metadata": {
        "id": "To45oW60wmHX",
        "outputId": "5604802f-6c41-4715-fbfa-5ee3a8d8266b"
      },
      "outputs": [
        {
          "data": {
            "image/png": "[encoded data removed]",
            "text/plain": [
              "<Figure size 2500x1700 with 2 Axes>"
            ]
          },
          "metadata": {},
          "output_type": "display_data"
        }
      ],
      "source": [
        "import seaborn as sns\n",
        "import numpy as np\n",
        "import matplotlib.pyplot as plt\n",
        "correlation_matrix = combined_df.corr()\n",
        "mask = np.triu(np.ones_like(correlation_matrix, dtype=bool))\n",
        "\n",
        "# Set up the matplotlib figure\n",
        "f, ax = plt.subplots(figsize=(25, 17))\n",
        "\n",
        "# Generate a custom diverging colormap\n",
        "cmap = plt.get_cmap(\"coolwarm\")\n",
        "\n",
        "# Draw the heatmap with the mask and correct aspect ratio\n",
        "heatmap = sns.heatmap(correlation_matrix, annot= True, ax=ax,annot_kws={\"size\": 16},mask=mask, cmap=cmap, vmax=1.0, center=0, linewidths=1,\n",
        "                      cbar_kws={\"shrink\": 0.5, \"pad\": 0.000})\n",
        "for item in ax.get_yticklabels():\n",
        "    item.set_fontsize(16)\n",
        "for item in ax.get_xticklabels():\n",
        "    item.set_fontsize(16)\n",
        "plt.yticks(rotation=0)\n",
        "plt.xticks(rotation=90)\n",
        "# Adjust the position of the color bar\n",
        "cbar = heatmap.collections[0].colorbar\n",
        "cbar.ax.tick_params(labelsize=6)\n",
        "plt.show()"
      ]
    }
  ],
  "metadata": {
    "kernelspec": {
      "display_name": "Python 3",
      "language": "python",
      "name": "python3"
    },
    "language_info": {
      "codemirror_mode": {
        "name": "ipython",
        "version": 3
      },
      "file_extension": ".py",
      "mimetype": "text/x-python",
      "name": "python",
      "nbconvert_exporter": "python",
      "pygments_lexer": "ipython3",
      "version": "3.10.12"
    },
    "colab": {
      "provenance": []
    }
  },
  "nbformat": 4,
  "nbformat_minor": 0
}