{
  "cells": [
    {
      "cell_type": "code",
      "execution_count": 1,
      "id": "l4o4CciLlTbT",
      "metadata": {
        "colab": {
          "base_uri": "https://localhost:8080/"
        },
        "id": "l4o4CciLlTbT",
        "outputId": "ce5e5e33-9b78-44e6-e80e-15190d61babf"
      },
      "outputs": [
        {
          "name": "stdout",
          "output_type": "stream",
          "text": [
            "Defaulting to user installation because normal site-packages is not writeable\n",
            "Collecting pylibjpeg\n",
            "  Downloading pylibjpeg-1.4.0-py3-none-any.whl (28 kB)\n",
            "Requirement already satisfied: numpy in /home/srajwal/.local/lib/python3.10/site-packages (from pylibjpeg) (1.26.1)\n",
            "Installing collected packages: pylibjpeg\n",
            "Successfully installed pylibjpeg-1.4.0\n",
            "Note: you may need to restart the kernel to use updated packages.\n"
          ]
        }
      ],
      "source": [
        "pip install pylibjpeg"
      ]
    },
    {
      "cell_type": "code",
      "execution_count": 2,
      "id": "025505a7",
      "metadata": {
        "colab": {
          "base_uri": "https://localhost:8080/"
        },
        "id": "025505a7",
        "outputId": "e76a709c-60e8-4910-d05f-8986a465a42e"
      },
      "outputs": [
        {
          "name": "stdout",
          "output_type": "stream",
          "text": [
            "Defaulting to user installation because normal site-packages is not writeable\n",
            "Collecting gdcm\n",
            "  Downloading gdcm-1.1-py3-none-manylinux1_x86_64.whl (2.7 MB)\n",
            "\u001b[2K     \u001b[90m━━━━━━━━━━━━━━━━━━━━━━━━━━━━━━━━━━━━━━━━\u001b[0m \u001b[32m2.7/2.7 MB\u001b[0m \u001b[31m13.0 MB/s\u001b[0m eta \u001b[36m0:00:00\u001b[0m00:01\u001b[0m00:01\u001b[0m\n",
            "\u001b[?25hInstalling collected packages: gdcm\n",
            "Successfully installed gdcm-1.1\n",
            "Note: you may need to restart the kernel to use updated packages.\n"
          ]
        }
      ],
      "source": [
        "pip install gdcm"
      ]
    },
    {
      "cell_type": "code",
      "execution_count": 3,
      "id": "6iSjmQM4nOHe",
      "metadata": {
        "colab": {
          "base_uri": "https://localhost:8080/"
        },
        "id": "6iSjmQM4nOHe",
        "outputId": "0d5a1118-821b-4244-af79-f331a3f702ee"
      },
      "outputs": [
        {
          "name": "stdout",
          "output_type": "stream",
          "text": [
            "Defaulting to user installation because normal site-packages is not writeable\n",
            "Requirement already satisfied: pylibjpeg in /home/srajwal/.local/lib/python3.10/site-packages (1.4.0)\n",
            "Collecting pylibjpeg-libjpeg\n",
            "  Downloading pylibjpeg_libjpeg-1.3.4-cp310-cp310-manylinux_2_17_x86_64.manylinux2014_x86_64.whl (4.3 MB)\n",
            "\u001b[2K     \u001b[90m━━━━━━━━━━━━━━━━━━━━━━━━━━━━━━━━━━━━━━━━\u001b[0m \u001b[32m4.3/4.3 MB\u001b[0m \u001b[31m7.2 MB/s\u001b[0m eta \u001b[36m0:00:00\u001b[0m00:01\u001b[0m00:01\u001b[0mm\n",
            "\u001b[?25hCollecting pylibjpeg-openjpeg\n",
            "  Downloading pylibjpeg_openjpeg-1.3.2-cp310-cp310-manylinux_2_17_x86_64.manylinux2014_x86_64.whl (1.4 MB)\n",
            "\u001b[2K     \u001b[90m━━━━━━━━━━━━━━━━━━━━━━━━━━━━━━━━━━━━━━━━\u001b[0m \u001b[32m1.4/1.4 MB\u001b[0m \u001b[31m18.0 MB/s\u001b[0m eta \u001b[36m0:00:00\u001b[0m00:01\u001b[0m\n",
            "\u001b[?25hRequirement already satisfied: numpy in /home/srajwal/.local/lib/python3.10/site-packages (from pylibjpeg) (1.26.1)\n",
            "Installing collected packages: pylibjpeg-openjpeg, pylibjpeg-libjpeg\n",
            "Successfully installed pylibjpeg-libjpeg-1.3.4 pylibjpeg-openjpeg-1.3.2\n",
            "Note: you may need to restart the kernel to use updated packages.\n"
          ]
        }
      ],
      "source": [
        "pip install pylibjpeg pylibjpeg-libjpeg pylibjpeg-openjpeg"
      ]
    },
    {
      "cell_type": "code",
      "execution_count": 4,
      "id": "a5jtHD7vuRAq",
      "metadata": {
        "colab": {
          "base_uri": "https://localhost:8080/",
          "height": 334
        },
        "id": "a5jtHD7vuRAq",
        "outputId": "b4a6a460-46bb-4ce8-83ba-70b0589168a0"
      },
      "outputs": [
        {
          "name": "stdout",
          "output_type": "stream",
          "text": [
            "Defaulting to user installation because normal site-packages is not writeable\n",
            "Collecting pillow\n",
            "  Using cached Pillow-10.1.0-cp310-cp310-manylinux_2_28_x86_64.whl (3.6 MB)\n",
            "Installing collected packages: pillow\n",
            "  Attempting uninstall: pillow\n",
            "    Found existing installation: Pillow 10.1.0\n",
            "    Uninstalling Pillow-10.1.0:\n",
            "      Successfully uninstalled Pillow-10.1.0\n",
            "\u001b[31mERROR: Could not install packages due to an OSError: [Errno 16] Device or resource busy: '.nfs00000000000080ab00000327'\n",
            "\u001b[0m\u001b[31m\n",
            "\u001b[0mNote: you may need to restart the kernel to use updated packages.\n"
          ]
        }
      ],
      "source": [
        "pip install --force-reinstall pillow\n"
      ]
    },
    {
      "cell_type": "markdown",
      "id": "390ef298",
      "metadata": {
        "id": "390ef298"
      },
      "source": [
        "# Converting a List of DICOMs to PNG. This notebook will read DICOM files and convert them to 16-bit PNG. Flipping logic is included such that both left and right breast images will be pointed in the same direction to improve model training."
      ]
    },
    {
      "cell_type": "code",
      "execution_count": 5,
      "id": "jpvWPvpuHHPv",
      "metadata": {
        "colab": {
          "base_uri": "https://localhost:8080/"
        },
        "id": "jpvWPvpuHHPv",
        "outputId": "44aa9b7e-5c9f-45a9-8b2b-8e2289dbbd27"
      },
      "outputs": [
        {
          "name": "stdout",
          "output_type": "stream",
          "text": [
            "Defaulting to user installation because normal site-packages is not writeable\n",
            "\u001b[33mWARNING: Ignoring invalid distribution -illow (/home/srajwal/.local/lib/python3.10/site-packages)\u001b[0m\u001b[33m\n",
            "\u001b[0m\u001b[33mWARNING: Ignoring invalid distribution -illow (/home/srajwal/.local/lib/python3.10/site-packages)\u001b[0m\u001b[33m\n",
            "\u001b[0mRequirement already satisfied: pydicom in /home/srajwal/.local/lib/python3.10/site-packages (2.4.3)\n",
            "\u001b[33mWARNING: Ignoring invalid distribution -illow (/home/srajwal/.local/lib/python3.10/site-packages)\u001b[0m\u001b[33m\n",
            "\u001b[0mNote: you may need to restart the kernel to use updated packages.\n"
          ]
        }
      ],
      "source": [
        "pip install pydicom"
      ]
    },
    {
      "cell_type": "code",
      "execution_count": 6,
      "id": "X7p-i5rVHM2b",
      "metadata": {
        "colab": {
          "base_uri": "https://localhost:8080/"
        },
        "id": "X7p-i5rVHM2b",
        "outputId": "599e26c5-c156-4591-f1c6-154ce4519661"
      },
      "outputs": [
        {
          "name": "stdout",
          "output_type": "stream",
          "text": [
            "Defaulting to user installation because normal site-packages is not writeable\n",
            "\u001b[33mWARNING: Ignoring invalid distribution -illow (/home/srajwal/.local/lib/python3.10/site-packages)\u001b[0m\u001b[33m\n",
            "\u001b[0m\u001b[33mWARNING: Ignoring invalid distribution -illow (/home/srajwal/.local/lib/python3.10/site-packages)\u001b[0m\u001b[33m\n",
            "\u001b[0mCollecting pypng\n",
            "  Downloading pypng-0.20220715.0-py3-none-any.whl (58 kB)\n",
            "\u001b[2K     \u001b[90m━━━━━━━━━━━━━━━━━━━━━━━━━━━━━━━━━━━━━━━━\u001b[0m \u001b[32m58.1/58.1 KB\u001b[0m \u001b[31m1.3 MB/s\u001b[0m eta \u001b[36m0:00:00\u001b[0ma \u001b[36m0:00:01\u001b[0m\n",
            "\u001b[?25h\u001b[33mWARNING: Ignoring invalid distribution -illow (/home/srajwal/.local/lib/python3.10/site-packages)\u001b[0m\u001b[33m\n",
            "\u001b[0mInstalling collected packages: pypng\n",
            "\u001b[33mWARNING: Ignoring invalid distribution -illow (/home/srajwal/.local/lib/python3.10/site-packages)\u001b[0m\u001b[33m\n",
            "\u001b[0mSuccessfully installed pypng-0.20220715.0\n",
            "Note: you may need to restart the kernel to use updated packages.\n"
          ]
        }
      ],
      "source": [
        "pip install pypng"
      ]
    },
    {
      "cell_type": "code",
      "execution_count": 1,
      "id": "8f9f9921",
      "metadata": {
        "id": "8f9f9921"
      },
      "outputs": [],
      "source": [
        "import pydicom\n",
        "import numpy as np\n",
        "import pandas as pd\n",
        "import png"
      ]
    },
    {
      "cell_type": "code",
      "execution_count": 2,
      "id": "BqOxHy6EnEXU",
      "metadata": {
        "id": "BqOxHy6EnEXU"
      },
      "outputs": [],
      "source": [
        "import gc\n",
        "import glob\n",
        "import os\n",
        "import random\n",
        "\n",
        "# import cv2\n",
        "import matplotlib.pyplot as plt\n",
        "import numpy as np\n",
        "import pandas as pd\n",
        "import pydicom\n",
        "from joblib import Parallel, delayed\n",
        "from matplotlib import animation, rc\n",
        "from scipy.ndimage import zoom\n",
        "from tqdm.notebook import tqdm"
      ]
    },
    {
      "cell_type": "code",
      "execution_count": 9,
      "id": "33c007a2",
      "metadata": {
        "id": "33c007a2"
      },
      "outputs": [
        {
          "name": "stdout",
          "output_type": "stream",
          "text": [
            "Defaulting to user installation because normal site-packages is not writeable\n",
            "\u001b[33mWARNING: Ignoring invalid distribution -illow (/home/srajwal/.local/lib/python3.10/site-packages)\u001b[0m\u001b[33m\n",
            "\u001b[0m\u001b[33mWARNING: Ignoring invalid distribution -illow (/home/srajwal/.local/lib/python3.10/site-packages)\u001b[0m\u001b[33m\n",
            "\u001b[0mCollecting opencv-python\n",
            "  Downloading opencv_python-4.8.1.78-cp37-abi3-manylinux_2_17_x86_64.manylinux2014_x86_64.whl (61.7 MB)\n",
            "\u001b[2K     \u001b[90m━━━━━━━━━━━━━━━━━━━━━━━━━━━━━━━━━━━━━━━━\u001b[0m \u001b[32m61.7/61.7 MB\u001b[0m \u001b[31m7.0 MB/s\u001b[0m eta \u001b[36m0:00:00\u001b[0m:00:01\u001b[0m00:01\u001b[0m\n",
            "\u001b[?25hRequirement already satisfied: numpy>=1.17.3 in /home/srajwal/.local/lib/python3.10/site-packages (from opencv-python) (1.26.1)\n",
            "\u001b[33mWARNING: Ignoring invalid distribution -illow (/home/srajwal/.local/lib/python3.10/site-packages)\u001b[0m\u001b[33m\n",
            "\u001b[0mInstalling collected packages: opencv-python\n",
            "\u001b[33mWARNING: Ignoring invalid distribution -illow (/home/srajwal/.local/lib/python3.10/site-packages)\u001b[0m\u001b[33m\n",
            "\u001b[0mSuccessfully installed opencv-python-4.8.1.78\n",
            "Note: you may need to restart the kernel to use updated packages.\n"
          ]
        }
      ],
      "source": [
        "pip install opencv-python"
      ]
    },
    {
      "cell_type": "code",
      "execution_count": 3,
      "id": "7eb4de29",
      "metadata": {
        "id": "7eb4de29"
      },
      "outputs": [],
      "source": [
        "# Get DICOM image metadata\n",
        "class DCM_Tags():\n",
        "    def __init__(self, img_dcm):\n",
        "        try:\n",
        "            self.laterality = img_dcm.ImageLaterality\n",
        "        except AttributeError:\n",
        "            self.laterality = np.nan\n",
        "\n",
        "        try:\n",
        "            self.view = img_dcm.ViewPosition\n",
        "        except AttributeError:\n",
        "            self.view = np.nan\n",
        "\n",
        "        try:\n",
        "            self.orientation = img_dcm.PatientOrientation\n",
        "        except AttributeError:\n",
        "            self.orientation = np.nan\n",
        "\n",
        "# Check whether DICOM should be flipped\n",
        "def check_dcm(imgdcm):\n",
        "    # Get DICOM metadata\n",
        "    tags = DCM_Tags(imgdcm)\n",
        "    print(\"tags.views: \",tags.view)\n",
        "\n",
        "    # If image orientation tag is defined\n",
        "    if ~pd.isnull(tags.orientation):\n",
        "        # CC view\n",
        "        if tags.view == 'CC':\n",
        "            if tags.orientation[0] == 'P':\n",
        "                flipHorz = True\n",
        "            else:\n",
        "                flipHorz = False\n",
        "\n",
        "            if (tags.laterality == 'L') & (tags.orientation[1] == 'L'):\n",
        "                flipVert = True\n",
        "            elif (tags.laterality == 'R') & (tags.orientation[1] == 'R'):\n",
        "                flipVert = True\n",
        "            else:\n",
        "                flipVert = False\n",
        "\n",
        "        # MLO or ML views\n",
        "        elif (tags.view == 'MLO') | (tags.view == 'ML'):\n",
        "            if tags.orientation[0] == 'P':\n",
        "                flipHorz = True\n",
        "            else:\n",
        "                flipHorz = False\n",
        "\n",
        "            if (tags.laterality == 'L') & ((tags.orientation[1] == 'H') | (tags.orientation[1] == 'HL')):\n",
        "                flipVert = True\n",
        "            elif (tags.laterality == 'R') & ((tags.orientation[1] == 'H') | (tags.orientation[1] == 'HR')):\n",
        "                flipVert = True\n",
        "            else:\n",
        "                flipVert = False\n",
        "\n",
        "        # Unrecognized view\n",
        "        else:\n",
        "            flipHorz = False\n",
        "            flipVert = False\n",
        "\n",
        "    # If image orientation tag is undefined\n",
        "    else:\n",
        "        # Flip RCC, RML, and RMLO images\n",
        "        if (tags.laterality == 'R') & ((tags.view == 'CC') | (tags.view == 'ML') | (tags.view == 'MLO')):\n",
        "            flipHorz = True\n",
        "            flipVert = False\n",
        "        else:\n",
        "            flipHorz = False\n",
        "            flipVert = False\n",
        "\n",
        "    return flipHorz, flipVert\n",
        "\n",
        "# Save DICOM pixel array as PNG\n",
        "def save_dcm_image_as_png(image, png_filename, bitdepth=12):\n",
        "    with open(png_filename, 'wb') as f:\n",
        "        writer = png.Writer(height=image.shape[0],\n",
        "                            width=image.shape[1],\n",
        "                            bitdepth=bitdepth,\n",
        "                            greyscale=True)\n",
        "        writer.write(f, image.tolist())"
      ]
    },
    {
      "cell_type": "code",
      "execution_count": 4,
      "id": "79563299",
      "metadata": {
        "id": "79563299"
      },
      "outputs": [],
      "source": [
        "# Convert list of DICOMs to PNGs\n",
        "def process_dcm_list(dcm_list, save_path):\n",
        "    for i, dcm_path in enumerate(dcm_list):\n",
        "        print(f\"Processing DICOM #{i}...\")\n",
        "\n",
        "        # Load DICOM\n",
        "        dcm = pydicom.dcmread(dcm_path)\n",
        "        img = dcm.pixel_array\n",
        "\n",
        "        # Check if a horizontal flip is necessary\n",
        "        horz, _ = check_dcm(dcm)\n",
        "        if horz:\n",
        "            # Flip img horizontally\n",
        "            img = np.fliplr(img)\n",
        "\n",
        "        # Get new file name\n",
        "        split_fn = dcm_path[:-4].split('/')\n",
        "        new_fn = f\"{split_fn[-1]}_conv.png\"\n",
        "\n",
        "        # Save PNG\n",
        "        png_path = save_path + new_fn\n",
        "        save_dcm_image_as_png(img, png_path)"
      ]
    },
    {
      "cell_type": "code",
      "execution_count": 3,
      "metadata": {},
      "outputs": [
        {
          "data": {
            "text/plain": [
              "<matplotlib.image.AxesImage at 0x7fcd52a47880>"
            ]
          },
          "execution_count": 3,
          "metadata": {},
          "output_type": "execute_result"
        },
        {
          "data": {
            "image/png": "[encoded data removed]",
            "text/plain": [
              "<Figure size 640x480 with 1 Axes>"
            ]
          },
          "metadata": {},
          "output_type": "display_data"
        }
      ],
      "source": [
        "import pydicom\n",
        "import matplotlib.pyplot as plt\n",
        "dicom = pydicom.read_file('/local/scratch/shared-directories/ssanet/SCRIPTS/Test_DCM/1.2.826.0.1.3680043.8.498.11459615656252960969245575433082445423.dcm')\n",
        "image = dicom.pixel_array\n",
        "\n",
        "plt.imshow(image, 'grey')\n",
        "plt.savefig"
      ]
    },
    {
      "cell_type": "code",
      "execution_count": 18,
      "id": "06c2d5b1",
      "metadata": {
        "colab": {
          "base_uri": "https://localhost:8080/"
        },
        "id": "06c2d5b1",
        "outputId": "a908670c-0743-4821-d34e-6c76273a2342"
      },
      "outputs": [
        {
          "name": "stdout",
          "output_type": "stream",
          "text": [
            "Processing DICOM #0...\n",
            "tags.views:  MLO\n",
            "Processing DICOM #1...\n",
            "tags.views:  MLO\n",
            "Processing DICOM #2...\n",
            "tags.views:  CC\n",
            "Processing DICOM #3...\n",
            "tags.views:  MLO\n",
            "Processing DICOM #4...\n",
            "tags.views:  CC\n",
            "Processing DICOM #5...\n",
            "tags.views:  CC\n",
            "Processing DICOM #6...\n",
            "tags.views:  MLO\n",
            "Processing DICOM #7...\n",
            "tags.views:  CC\n",
            "Processing DICOM #8...\n",
            "tags.views:  XCCL\n",
            "Processing DICOM #9...\n",
            "tags.views:  XCCL\n"
          ]
        }
      ],
      "source": [
        "# Provide a list of DICOM paths and a target directory\n",
        "df_one_patient = pd.read_csv('/local/scratch/shared-directories/ssanet/SCRIPTS/one patient.csv')\n",
        "\n",
        "paths_list = df_one_patient['path'].values[0].strip(\"[]\").replace(\"'\", \"\").split(\", \")\n",
        "\n",
        "def update_paths(paths, new_base):\n",
        "    updated_paths = []\n",
        "    for path in paths:\n",
        "        index_of_cohort = path.find('cohort_1')\n",
        "        updated_path = new_base + path[index_of_cohort:]\n",
        "        updated_paths.append(updated_path)\n",
        "    return updated_paths\n",
        "\n",
        "new_base_path = '/local/scratch/shared-directories/ssanet/EMBED/'\n",
        "dcm_list = update_paths(paths_list, new_base_path)\n",
        "\n",
        "# dcm_list = ['/local/scratch/shared-directories/ssanet/Dataset_EMBED/images/cohort_1/10000879/1.2.842.113970.3.62.1.56868341.20180426.1095160/1.2.840.113684.2750825173.1524118967.4848.25046.1/1.2.826.0.1.3680043.8.498.12326784267688742524174894068105129442.dcm']\n",
        "\n",
        "save_path = \"/local/scratch/shared-directories/ssanet/SCRIPTS/\"\n",
        "\n",
        "# # Convert DICOMs\n",
        "process_dcm_list(dcm_list, save_path)"
      ]
    },
    {
      "cell_type": "code",
      "execution_count": 30,
      "metadata": {},
      "outputs": [
        {
          "data": {
            "text/html": [
              "<div>\n",
              "<style scoped>\n",
              "    .dataframe tbody tr th:only-of-type {\n",
              "        vertical-align: middle;\n",
              "    }\n",
              "\n",
              "    .dataframe tbody tr th {\n",
              "        vertical-align: top;\n",
              "    }\n",
              "\n",
              "    .dataframe thead th {\n",
              "        text-align: right;\n",
              "    }\n",
              "</style>\n",
              "<table border=\"1\" class=\"dataframe\">\n",
              "  <thead>\n",
              "    <tr style=\"text-align: right;\">\n",
              "      <th></th>\n",
              "      <th>empi_anon</th>\n",
              "      <th>asses</th>\n",
              "      <th>anon_dicom_path</th>\n",
              "      <th>update_local_path</th>\n",
              "    </tr>\n",
              "  </thead>\n",
              "  <tbody>\n",
              "    <tr>\n",
              "      <th>0</th>\n",
              "      <td>10000879</td>\n",
              "      <td>N</td>\n",
              "      <td>[['/mnt/NAS2/mammo/anon_dicom/cohort_1/1000087...</td>\n",
              "      <td>[/local/scratch/shared-directories/ssanet/EMBE...</td>\n",
              "    </tr>\n",
              "    <tr>\n",
              "      <th>1</th>\n",
              "      <td>10000879</td>\n",
              "      <td>B</td>\n",
              "      <td>[['/mnt/NAS2/mammo/anon_dicom/cohort_1/1000087...</td>\n",
              "      <td>[/local/scratch/shared-directories/ssanet/EMBE...</td>\n",
              "    </tr>\n",
              "    <tr>\n",
              "      <th>2</th>\n",
              "      <td>10000879</td>\n",
              "      <td>A</td>\n",
              "      <td>[['/mnt/NAS2/mammo/anon_dicom/cohort_1/1000087...</td>\n",
              "      <td>[/local/scratch/shared-directories/ssanet/EMBE...</td>\n",
              "    </tr>\n",
              "    <tr>\n",
              "      <th>3</th>\n",
              "      <td>10000879</td>\n",
              "      <td>M</td>\n",
              "      <td>[['/mnt/NAS2/mammo/anon_dicom/cohort_1/1000087...</td>\n",
              "      <td>[/local/scratch/shared-directories/ssanet/EMBE...</td>\n",
              "    </tr>\n",
              "    <tr>\n",
              "      <th>4</th>\n",
              "      <td>10000879</td>\n",
              "      <td>N</td>\n",
              "      <td>[['/mnt/NAS2/mammo/anon_dicom/cohort_1/1000087...</td>\n",
              "      <td>[/local/scratch/shared-directories/ssanet/EMBE...</td>\n",
              "    </tr>\n",
              "    <tr>\n",
              "      <th>5</th>\n",
              "      <td>10000879</td>\n",
              "      <td>N</td>\n",
              "      <td>[['/mnt/NAS2/mammo/anon_dicom/cohort_1/1000087...</td>\n",
              "      <td>[/local/scratch/shared-directories/ssanet/EMBE...</td>\n",
              "    </tr>\n",
              "  </tbody>\n",
              "</table>\n",
              "</div>"
            ],
            "text/plain": [
              "   empi_anon asses                                    anon_dicom_path  \\\n",
              "0   10000879     N  [['/mnt/NAS2/mammo/anon_dicom/cohort_1/1000087...   \n",
              "1   10000879     B  [['/mnt/NAS2/mammo/anon_dicom/cohort_1/1000087...   \n",
              "2   10000879     A  [['/mnt/NAS2/mammo/anon_dicom/cohort_1/1000087...   \n",
              "3   10000879     M  [['/mnt/NAS2/mammo/anon_dicom/cohort_1/1000087...   \n",
              "4   10000879     N  [['/mnt/NAS2/mammo/anon_dicom/cohort_1/1000087...   \n",
              "5   10000879     N  [['/mnt/NAS2/mammo/anon_dicom/cohort_1/1000087...   \n",
              "\n",
              "                                   update_local_path  \n",
              "0  [/local/scratch/shared-directories/ssanet/EMBE...  \n",
              "1  [/local/scratch/shared-directories/ssanet/EMBE...  \n",
              "2  [/local/scratch/shared-directories/ssanet/EMBE...  \n",
              "3  [/local/scratch/shared-directories/ssanet/EMBE...  \n",
              "4  [/local/scratch/shared-directories/ssanet/EMBE...  \n",
              "5  [/local/scratch/shared-directories/ssanet/EMBE...  "
            ]
          },
          "execution_count": 30,
          "metadata": {},
          "output_type": "execute_result"
        }
      ],
      "source": [
        "# Provide a list of DICOM paths and a target directory\n",
        "df_one_patient = pd.read_csv('/local/scratch/shared-directories/ssanet/SCRIPTS/one patient.csv')\n",
        "def update_paths(paths, new_base):\n",
        "    updated_paths = []\n",
        "    for path in paths:\n",
        "        index_of_cohort = path.find('cohort_1')\n",
        "        updated_path = new_base + path[index_of_cohort:]\n",
        "        updated_paths.append(updated_path)\n",
        "    return updated_paths\n",
        "\n",
        "df_one_patient['update_local_path']=None\n",
        "\n",
        "for i in range(len(df_one_patient)):\n",
        "    paths_list = df_one_patient.loc[i,'anon_dicom_path'].strip(\"[]\").replace(\"'\", \"\").split(\", \")\n",
        "    new_base_path = '/local/scratch/shared-directories/ssanet/EMBED/'\n",
        "    dcm_list = update_paths(paths_list, new_base_path)\n",
        "    df_one_patient.at[i,'update_local_path'] = dcm_list\n",
        "    # print(dcm_list)\n",
        "\n",
        "df_one_patient\n"
      ]
    },
    {
      "cell_type": "code",
      "execution_count": null,
      "metadata": {},
      "outputs": [
        {
          "ename": "",
          "evalue": "",
          "output_type": "error",
          "traceback": [
            "\u001b[1;31mFailed to start the Kernel 'Python 3.10.12'. \n",
            "\u001b[1;31mView Jupyter <a href='command:jupyter.viewOutput'>log</a> for further details. Unknown system error -122: Unknown system error -122, open '/home/srajwal/.local/share/jupyter/runtime/kernel-v2-2657749VG5Ax5JNv1uT.json'"
          ]
        }
      ],
      "source": [
        "import pandas as pd"
      ]
    }
  ],
  "metadata": {
    "colab": {
      "provenance": []
    },
    "kernelspec": {
      "display_name": "Python 3 (ipykernel)",
      "language": "python",
      "name": "python3"
    },
    "language_info": {
      "codemirror_mode": {
        "name": "ipython",
        "version": 3
      },
      "file_extension": ".py",
      "mimetype": "text/x-python",
      "name": "python",
      "nbconvert_exporter": "python",
      "pygments_lexer": "ipython3",
      "version": "3.10.12"
    }
  },
  "nbformat": 4,
  "nbformat_minor": 5
}
